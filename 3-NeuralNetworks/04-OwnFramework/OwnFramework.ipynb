{
 "cells": [
  {
   "cell_type": "markdown",
   "source": [
    "## Multi-Layered Perceptrons\r\n",
    "## Building our own Neural Framework\r\n",
    "\r\n",
    "> This notebook is a part of [AI for Beginners Curricula](http://github.com/microsoft/ai-for-beginners). Visit the repository for complete set of learning materials.\r\n",
    "\r\n",
    "In this notebook, we will gradually build our own neural framework capable of solving multi-class classification tasks as well as regression with multi-layered preceptrons.\r\n",
    "\r\n",
    "First, let's import some required libraries."
   ],
   "metadata": {
    "slideshow": {
     "slide_type": "slide"
    }
   }
  },
  {
   "cell_type": "code",
   "execution_count": 4,
   "source": [
    "%matplotlib nbagg\r\n",
    "import matplotlib.pyplot as plt \r\n",
    "from matplotlib import gridspec\r\n",
    "from sklearn.datasets import make_classification\r\n",
    "import numpy as np\r\n",
    "# pick the seed for reproducability - change it to explore the effects of random variations\r\n",
    "np.random.seed(0)\r\n",
    "import random"
   ],
   "outputs": [
    {
     "output_type": "error",
     "ename": "ImportError",
     "evalue": "cannot import name 'animation' from partially initialized module 'matplotlib' (most likely due to a circular import) (C:\\winapp\\Miniconda3\\lib\\site-packages\\matplotlib\\__init__.py)",
     "traceback": [
      "\u001b[1;31m---------------------------------------------------------------------------\u001b[0m",
      "\u001b[1;31mImportError\u001b[0m                               Traceback (most recent call last)",
      "\u001b[1;32m<ipython-input-4-d2e2256161c7>\u001b[0m in \u001b[0;36m<module>\u001b[1;34m\u001b[0m\n\u001b[1;32m----> 1\u001b[1;33m \u001b[0mget_ipython\u001b[0m\u001b[1;33m(\u001b[0m\u001b[1;33m)\u001b[0m\u001b[1;33m.\u001b[0m\u001b[0mrun_line_magic\u001b[0m\u001b[1;33m(\u001b[0m\u001b[1;34m'matplotlib'\u001b[0m\u001b[1;33m,\u001b[0m \u001b[1;34m'nbagg'\u001b[0m\u001b[1;33m)\u001b[0m\u001b[1;33m\u001b[0m\u001b[1;33m\u001b[0m\u001b[0m\n\u001b[0m\u001b[0;32m      2\u001b[0m \u001b[1;32mimport\u001b[0m \u001b[0mmatplotlib\u001b[0m\u001b[1;33m.\u001b[0m\u001b[0mpyplot\u001b[0m \u001b[1;32mas\u001b[0m \u001b[0mplt\u001b[0m\u001b[1;33m\u001b[0m\u001b[1;33m\u001b[0m\u001b[0m\n\u001b[0;32m      3\u001b[0m \u001b[1;32mfrom\u001b[0m \u001b[0mmatplotlib\u001b[0m \u001b[1;32mimport\u001b[0m \u001b[0mgridspec\u001b[0m\u001b[1;33m\u001b[0m\u001b[1;33m\u001b[0m\u001b[0m\n\u001b[0;32m      4\u001b[0m \u001b[1;32mfrom\u001b[0m \u001b[0msklearn\u001b[0m\u001b[1;33m.\u001b[0m\u001b[0mdatasets\u001b[0m \u001b[1;32mimport\u001b[0m \u001b[0mmake_classification\u001b[0m\u001b[1;33m\u001b[0m\u001b[1;33m\u001b[0m\u001b[0m\n\u001b[0;32m      5\u001b[0m \u001b[1;32mimport\u001b[0m \u001b[0mnumpy\u001b[0m \u001b[1;32mas\u001b[0m \u001b[0mnp\u001b[0m\u001b[1;33m\u001b[0m\u001b[1;33m\u001b[0m\u001b[0m\n",
      "\u001b[1;32mC:\\winapp\\Miniconda3\\lib\\site-packages\\IPython\\core\\interactiveshell.py\u001b[0m in \u001b[0;36mrun_line_magic\u001b[1;34m(self, magic_name, line, _stack_depth)\u001b[0m\n\u001b[0;32m   2346\u001b[0m                 \u001b[0mkwargs\u001b[0m\u001b[1;33m[\u001b[0m\u001b[1;34m'local_ns'\u001b[0m\u001b[1;33m]\u001b[0m \u001b[1;33m=\u001b[0m \u001b[0mself\u001b[0m\u001b[1;33m.\u001b[0m\u001b[0mget_local_scope\u001b[0m\u001b[1;33m(\u001b[0m\u001b[0mstack_depth\u001b[0m\u001b[1;33m)\u001b[0m\u001b[1;33m\u001b[0m\u001b[1;33m\u001b[0m\u001b[0m\n\u001b[0;32m   2347\u001b[0m             \u001b[1;32mwith\u001b[0m \u001b[0mself\u001b[0m\u001b[1;33m.\u001b[0m\u001b[0mbuiltin_trap\u001b[0m\u001b[1;33m:\u001b[0m\u001b[1;33m\u001b[0m\u001b[1;33m\u001b[0m\u001b[0m\n\u001b[1;32m-> 2348\u001b[1;33m                 \u001b[0mresult\u001b[0m \u001b[1;33m=\u001b[0m \u001b[0mfn\u001b[0m\u001b[1;33m(\u001b[0m\u001b[1;33m*\u001b[0m\u001b[0margs\u001b[0m\u001b[1;33m,\u001b[0m \u001b[1;33m**\u001b[0m\u001b[0mkwargs\u001b[0m\u001b[1;33m)\u001b[0m\u001b[1;33m\u001b[0m\u001b[1;33m\u001b[0m\u001b[0m\n\u001b[0m\u001b[0;32m   2349\u001b[0m             \u001b[1;32mreturn\u001b[0m \u001b[0mresult\u001b[0m\u001b[1;33m\u001b[0m\u001b[1;33m\u001b[0m\u001b[0m\n\u001b[0;32m   2350\u001b[0m \u001b[1;33m\u001b[0m\u001b[0m\n",
      "\u001b[1;32mC:\\winapp\\Miniconda3\\lib\\site-packages\\decorator.py\u001b[0m in \u001b[0;36mfun\u001b[1;34m(*args, **kw)\u001b[0m\n\u001b[0;32m    230\u001b[0m             \u001b[1;32mif\u001b[0m \u001b[1;32mnot\u001b[0m \u001b[0mkwsyntax\u001b[0m\u001b[1;33m:\u001b[0m\u001b[1;33m\u001b[0m\u001b[1;33m\u001b[0m\u001b[0m\n\u001b[0;32m    231\u001b[0m                 \u001b[0margs\u001b[0m\u001b[1;33m,\u001b[0m \u001b[0mkw\u001b[0m \u001b[1;33m=\u001b[0m \u001b[0mfix\u001b[0m\u001b[1;33m(\u001b[0m\u001b[0margs\u001b[0m\u001b[1;33m,\u001b[0m \u001b[0mkw\u001b[0m\u001b[1;33m,\u001b[0m \u001b[0msig\u001b[0m\u001b[1;33m)\u001b[0m\u001b[1;33m\u001b[0m\u001b[1;33m\u001b[0m\u001b[0m\n\u001b[1;32m--> 232\u001b[1;33m             \u001b[1;32mreturn\u001b[0m \u001b[0mcaller\u001b[0m\u001b[1;33m(\u001b[0m\u001b[0mfunc\u001b[0m\u001b[1;33m,\u001b[0m \u001b[1;33m*\u001b[0m\u001b[1;33m(\u001b[0m\u001b[0mextras\u001b[0m \u001b[1;33m+\u001b[0m \u001b[0margs\u001b[0m\u001b[1;33m)\u001b[0m\u001b[1;33m,\u001b[0m \u001b[1;33m**\u001b[0m\u001b[0mkw\u001b[0m\u001b[1;33m)\u001b[0m\u001b[1;33m\u001b[0m\u001b[1;33m\u001b[0m\u001b[0m\n\u001b[0m\u001b[0;32m    233\u001b[0m     \u001b[0mfun\u001b[0m\u001b[1;33m.\u001b[0m\u001b[0m__name__\u001b[0m \u001b[1;33m=\u001b[0m \u001b[0mfunc\u001b[0m\u001b[1;33m.\u001b[0m\u001b[0m__name__\u001b[0m\u001b[1;33m\u001b[0m\u001b[1;33m\u001b[0m\u001b[0m\n\u001b[0;32m    234\u001b[0m     \u001b[0mfun\u001b[0m\u001b[1;33m.\u001b[0m\u001b[0m__doc__\u001b[0m \u001b[1;33m=\u001b[0m \u001b[0mfunc\u001b[0m\u001b[1;33m.\u001b[0m\u001b[0m__doc__\u001b[0m\u001b[1;33m\u001b[0m\u001b[1;33m\u001b[0m\u001b[0m\n",
      "\u001b[1;32mC:\\winapp\\Miniconda3\\lib\\site-packages\\IPython\\core\\magic.py\u001b[0m in \u001b[0;36m<lambda>\u001b[1;34m(f, *a, **k)\u001b[0m\n\u001b[0;32m    185\u001b[0m     \u001b[1;31m# but it's overkill for just that one bit of state.\u001b[0m\u001b[1;33m\u001b[0m\u001b[1;33m\u001b[0m\u001b[1;33m\u001b[0m\u001b[0m\n\u001b[0;32m    186\u001b[0m     \u001b[1;32mdef\u001b[0m \u001b[0mmagic_deco\u001b[0m\u001b[1;33m(\u001b[0m\u001b[0marg\u001b[0m\u001b[1;33m)\u001b[0m\u001b[1;33m:\u001b[0m\u001b[1;33m\u001b[0m\u001b[1;33m\u001b[0m\u001b[0m\n\u001b[1;32m--> 187\u001b[1;33m         \u001b[0mcall\u001b[0m \u001b[1;33m=\u001b[0m \u001b[1;32mlambda\u001b[0m \u001b[0mf\u001b[0m\u001b[1;33m,\u001b[0m \u001b[1;33m*\u001b[0m\u001b[0ma\u001b[0m\u001b[1;33m,\u001b[0m \u001b[1;33m**\u001b[0m\u001b[0mk\u001b[0m\u001b[1;33m:\u001b[0m \u001b[0mf\u001b[0m\u001b[1;33m(\u001b[0m\u001b[1;33m*\u001b[0m\u001b[0ma\u001b[0m\u001b[1;33m,\u001b[0m \u001b[1;33m**\u001b[0m\u001b[0mk\u001b[0m\u001b[1;33m)\u001b[0m\u001b[1;33m\u001b[0m\u001b[1;33m\u001b[0m\u001b[0m\n\u001b[0m\u001b[0;32m    188\u001b[0m \u001b[1;33m\u001b[0m\u001b[0m\n\u001b[0;32m    189\u001b[0m         \u001b[1;32mif\u001b[0m \u001b[0mcallable\u001b[0m\u001b[1;33m(\u001b[0m\u001b[0marg\u001b[0m\u001b[1;33m)\u001b[0m\u001b[1;33m:\u001b[0m\u001b[1;33m\u001b[0m\u001b[1;33m\u001b[0m\u001b[0m\n",
      "\u001b[1;32mC:\\winapp\\Miniconda3\\lib\\site-packages\\IPython\\core\\magics\\pylab.py\u001b[0m in \u001b[0;36mmatplotlib\u001b[1;34m(self, line)\u001b[0m\n\u001b[0;32m     97\u001b[0m             \u001b[0mprint\u001b[0m\u001b[1;33m(\u001b[0m\u001b[1;34m\"Available matplotlib backends: %s\"\u001b[0m \u001b[1;33m%\u001b[0m \u001b[0mbackends_list\u001b[0m\u001b[1;33m)\u001b[0m\u001b[1;33m\u001b[0m\u001b[1;33m\u001b[0m\u001b[0m\n\u001b[0;32m     98\u001b[0m         \u001b[1;32melse\u001b[0m\u001b[1;33m:\u001b[0m\u001b[1;33m\u001b[0m\u001b[1;33m\u001b[0m\u001b[0m\n\u001b[1;32m---> 99\u001b[1;33m             \u001b[0mgui\u001b[0m\u001b[1;33m,\u001b[0m \u001b[0mbackend\u001b[0m \u001b[1;33m=\u001b[0m \u001b[0mself\u001b[0m\u001b[1;33m.\u001b[0m\u001b[0mshell\u001b[0m\u001b[1;33m.\u001b[0m\u001b[0menable_matplotlib\u001b[0m\u001b[1;33m(\u001b[0m\u001b[0margs\u001b[0m\u001b[1;33m.\u001b[0m\u001b[0mgui\u001b[0m\u001b[1;33m.\u001b[0m\u001b[0mlower\u001b[0m\u001b[1;33m(\u001b[0m\u001b[1;33m)\u001b[0m \u001b[1;32mif\u001b[0m \u001b[0misinstance\u001b[0m\u001b[1;33m(\u001b[0m\u001b[0margs\u001b[0m\u001b[1;33m.\u001b[0m\u001b[0mgui\u001b[0m\u001b[1;33m,\u001b[0m \u001b[0mstr\u001b[0m\u001b[1;33m)\u001b[0m \u001b[1;32melse\u001b[0m \u001b[0margs\u001b[0m\u001b[1;33m.\u001b[0m\u001b[0mgui\u001b[0m\u001b[1;33m)\u001b[0m\u001b[1;33m\u001b[0m\u001b[1;33m\u001b[0m\u001b[0m\n\u001b[0m\u001b[0;32m    100\u001b[0m             \u001b[0mself\u001b[0m\u001b[1;33m.\u001b[0m\u001b[0m_show_matplotlib_backend\u001b[0m\u001b[1;33m(\u001b[0m\u001b[0margs\u001b[0m\u001b[1;33m.\u001b[0m\u001b[0mgui\u001b[0m\u001b[1;33m,\u001b[0m \u001b[0mbackend\u001b[0m\u001b[1;33m)\u001b[0m\u001b[1;33m\u001b[0m\u001b[1;33m\u001b[0m\u001b[0m\n\u001b[0;32m    101\u001b[0m \u001b[1;33m\u001b[0m\u001b[0m\n",
      "\u001b[1;32mC:\\winapp\\Miniconda3\\lib\\site-packages\\IPython\\core\\interactiveshell.py\u001b[0m in \u001b[0;36menable_matplotlib\u001b[1;34m(self, gui)\u001b[0m\n\u001b[0;32m   3515\u001b[0m         \"\"\"\n\u001b[0;32m   3516\u001b[0m         \u001b[1;32mfrom\u001b[0m \u001b[0mIPython\u001b[0m\u001b[1;33m.\u001b[0m\u001b[0mcore\u001b[0m \u001b[1;32mimport\u001b[0m \u001b[0mpylabtools\u001b[0m \u001b[1;32mas\u001b[0m \u001b[0mpt\u001b[0m\u001b[1;33m\u001b[0m\u001b[1;33m\u001b[0m\u001b[0m\n\u001b[1;32m-> 3517\u001b[1;33m         \u001b[1;32mfrom\u001b[0m \u001b[0mmatplotlib_inline\u001b[0m\u001b[1;33m.\u001b[0m\u001b[0mbackend_inline\u001b[0m \u001b[1;32mimport\u001b[0m \u001b[0mconfigure_inline_support\u001b[0m\u001b[1;33m\u001b[0m\u001b[1;33m\u001b[0m\u001b[0m\n\u001b[0m\u001b[0;32m   3518\u001b[0m         \u001b[0mgui\u001b[0m\u001b[1;33m,\u001b[0m \u001b[0mbackend\u001b[0m \u001b[1;33m=\u001b[0m \u001b[0mpt\u001b[0m\u001b[1;33m.\u001b[0m\u001b[0mfind_gui_and_backend\u001b[0m\u001b[1;33m(\u001b[0m\u001b[0mgui\u001b[0m\u001b[1;33m,\u001b[0m \u001b[0mself\u001b[0m\u001b[1;33m.\u001b[0m\u001b[0mpylab_gui_select\u001b[0m\u001b[1;33m)\u001b[0m\u001b[1;33m\u001b[0m\u001b[1;33m\u001b[0m\u001b[0m\n\u001b[0;32m   3519\u001b[0m \u001b[1;33m\u001b[0m\u001b[0m\n",
      "\u001b[1;32mC:\\winapp\\Miniconda3\\lib\\site-packages\\matplotlib_inline\\backend_inline.py\u001b[0m in \u001b[0;36m<module>\u001b[1;34m\u001b[0m\n\u001b[0;32m      4\u001b[0m \u001b[1;31m# Distributed under the terms of the BSD 3-Clause License.\u001b[0m\u001b[1;33m\u001b[0m\u001b[1;33m\u001b[0m\u001b[1;33m\u001b[0m\u001b[0m\n\u001b[0;32m      5\u001b[0m \u001b[1;33m\u001b[0m\u001b[0m\n\u001b[1;32m----> 6\u001b[1;33m \u001b[1;32mimport\u001b[0m \u001b[0mmatplotlib\u001b[0m\u001b[1;33m\u001b[0m\u001b[1;33m\u001b[0m\u001b[0m\n\u001b[0m\u001b[0;32m      7\u001b[0m from matplotlib.backends.backend_agg import (  # noqa\n\u001b[0;32m      8\u001b[0m     \u001b[0mnew_figure_manager\u001b[0m\u001b[1;33m,\u001b[0m\u001b[1;33m\u001b[0m\u001b[1;33m\u001b[0m\u001b[0m\n",
      "\u001b[1;32mC:\\winapp\\Miniconda3\\lib\\site-packages\\matplotlib\\__init__.py\u001b[0m in \u001b[0;36m<module>\u001b[1;34m\u001b[0m\n\u001b[0;32m    105\u001b[0m \u001b[1;31m# cbook must import matplotlib only within function\u001b[0m\u001b[1;33m\u001b[0m\u001b[1;33m\u001b[0m\u001b[1;33m\u001b[0m\u001b[0m\n\u001b[0;32m    106\u001b[0m \u001b[1;31m# definitions, so it is safe to import from it here.\u001b[0m\u001b[1;33m\u001b[0m\u001b[1;33m\u001b[0m\u001b[1;33m\u001b[0m\u001b[0m\n\u001b[1;32m--> 107\u001b[1;33m \u001b[1;32mfrom\u001b[0m \u001b[1;33m.\u001b[0m \u001b[1;32mimport\u001b[0m \u001b[0m_api\u001b[0m\u001b[1;33m,\u001b[0m \u001b[0mcbook\u001b[0m\u001b[1;33m,\u001b[0m \u001b[0mdocstring\u001b[0m\u001b[1;33m,\u001b[0m \u001b[0mrcsetup\u001b[0m\u001b[1;33m\u001b[0m\u001b[1;33m\u001b[0m\u001b[0m\n\u001b[0m\u001b[0;32m    108\u001b[0m \u001b[1;32mfrom\u001b[0m \u001b[0mmatplotlib\u001b[0m\u001b[1;33m.\u001b[0m\u001b[0mcbook\u001b[0m \u001b[1;32mimport\u001b[0m \u001b[0mMatplotlibDeprecationWarning\u001b[0m\u001b[1;33m,\u001b[0m \u001b[0msanitize_sequence\u001b[0m\u001b[1;33m\u001b[0m\u001b[1;33m\u001b[0m\u001b[0m\n\u001b[0;32m    109\u001b[0m \u001b[1;32mfrom\u001b[0m \u001b[0mmatplotlib\u001b[0m\u001b[1;33m.\u001b[0m\u001b[0mcbook\u001b[0m \u001b[1;32mimport\u001b[0m \u001b[0mmplDeprecation\u001b[0m  \u001b[1;31m# deprecated\u001b[0m\u001b[1;33m\u001b[0m\u001b[1;33m\u001b[0m\u001b[0m\n",
      "\u001b[1;32mC:\\winapp\\Miniconda3\\lib\\site-packages\\matplotlib\\rcsetup.py\u001b[0m in \u001b[0;36m<module>\u001b[1;34m\u001b[0m\n\u001b[0;32m     22\u001b[0m \u001b[1;32mimport\u001b[0m \u001b[0mnumpy\u001b[0m \u001b[1;32mas\u001b[0m \u001b[0mnp\u001b[0m\u001b[1;33m\u001b[0m\u001b[1;33m\u001b[0m\u001b[0m\n\u001b[0;32m     23\u001b[0m \u001b[1;33m\u001b[0m\u001b[0m\n\u001b[1;32m---> 24\u001b[1;33m \u001b[1;32mfrom\u001b[0m \u001b[0mmatplotlib\u001b[0m \u001b[1;32mimport\u001b[0m \u001b[0m_api\u001b[0m\u001b[1;33m,\u001b[0m \u001b[0manimation\u001b[0m\u001b[1;33m,\u001b[0m \u001b[0mcbook\u001b[0m\u001b[1;33m\u001b[0m\u001b[1;33m\u001b[0m\u001b[0m\n\u001b[0m\u001b[0;32m     25\u001b[0m \u001b[1;32mfrom\u001b[0m \u001b[0mmatplotlib\u001b[0m\u001b[1;33m.\u001b[0m\u001b[0mcbook\u001b[0m \u001b[1;32mimport\u001b[0m \u001b[0mls_mapper\u001b[0m\u001b[1;33m\u001b[0m\u001b[1;33m\u001b[0m\u001b[0m\n\u001b[0;32m     26\u001b[0m \u001b[1;32mfrom\u001b[0m \u001b[0mmatplotlib\u001b[0m\u001b[1;33m.\u001b[0m\u001b[0mcolors\u001b[0m \u001b[1;32mimport\u001b[0m \u001b[0mColormap\u001b[0m\u001b[1;33m,\u001b[0m \u001b[0mis_color_like\u001b[0m\u001b[1;33m\u001b[0m\u001b[1;33m\u001b[0m\u001b[0m\n",
      "\u001b[1;31mImportError\u001b[0m: cannot import name 'animation' from partially initialized module 'matplotlib' (most likely due to a circular import) (C:\\winapp\\Miniconda3\\lib\\site-packages\\matplotlib\\__init__.py)"
     ]
    }
   ],
   "metadata": {
    "slideshow": {
     "slide_type": "skip"
    }
   }
  },
  {
   "cell_type": "markdown",
   "source": [
    "## Sample Dataset\r\n",
    "\r\n",
    "As before, we will start with a simple sample dataset with two parameters.|\r\n"
   ],
   "metadata": {
    "slideshow": {
     "slide_type": "slide"
    }
   }
  },
  {
   "cell_type": "code",
   "execution_count": null,
   "source": [
    "n = 100\r\n",
    "X, Y = make_classification(n_samples = n, n_features=2,\r\n",
    "                           n_redundant=0, n_informative=2, flip_y=0.2)\r\n",
    "X = X.astype(np.float32)\r\n",
    "Y = Y.astype(np.int32)\r\n",
    "\r\n",
    "# Разбиваем на обучающую и тестовые выборки\r\n",
    "train_x, test_x = np.split(X, [n*8//10])\r\n",
    "train_labels, test_labels = np.split(Y, [n*8//10])"
   ],
   "outputs": [],
   "metadata": {
    "scrolled": false,
    "slideshow": {
     "slide_type": "slide"
    }
   }
  },
  {
   "cell_type": "code",
   "execution_count": null,
   "source": [
    "def plot_dataset(suptitle, features, labels):\r\n",
    "    # prepare the plot\r\n",
    "    fig, ax = plt.subplots(1, 1)\r\n",
    "    #pylab.subplots_adjust(bottom=0.2, wspace=0.4)\r\n",
    "    fig.suptitle(suptitle, fontsize = 16)\r\n",
    "    ax.set_xlabel('$x_i[0]$ -- (feature 1)')\r\n",
    "    ax.set_ylabel('$x_i[1]$ -- (feature 2)')\r\n",
    "\r\n",
    "    colors = ['r' if l else 'b' for l in labels]\r\n",
    "    ax.scatter(features[:, 0], features[:, 1], marker='o', c=colors, s=100, alpha = 0.5)\r\n",
    "    fig.show()"
   ],
   "outputs": [],
   "metadata": {
    "scrolled": false,
    "slideshow": {
     "slide_type": "skip"
    }
   }
  },
  {
   "cell_type": "code",
   "execution_count": null,
   "source": [
    "plot_dataset('Scatterplot of the training data', train_x, train_labels)\r\n",
    "plt.show()"
   ],
   "outputs": [],
   "metadata": {
    "scrolled": false,
    "slideshow": {
     "slide_type": "slide"
    }
   }
  },
  {
   "cell_type": "code",
   "execution_count": null,
   "source": [
    "print(train_x[:5])\r\n",
    "print(train_labels[:5])"
   ],
   "outputs": [],
   "metadata": {}
  },
  {
   "cell_type": "markdown",
   "source": [
    "## Machine Learning Problem\r\n",
    "\r\n",
    "Suppose we have input dataset $\\langle X,Y\\rangle$, where $X$ is a set of features, and $Y$ - corresponding labels. For regression problem, $y_i\\in\\mathbb{R}$, and for classification is is represented by a class number $y_i\\in\\{0,\\dots,n\\}$. \r\n",
    "\r\n",
    "Any machine learning model can be represented by function $f_\\theta(x)$, where $\\theta$ is a set of **parameters**. Our goal is to find such parameters $\\theta$ that our model fits the dataset in the best way. The criteria is defined by **loss function** $\\mathcal{L}$:\r\n",
    "\r\n",
    "$$\r\n",
    "\\theta = \\mathrm{argmin}_\\theta \\mathcal{L}(f_\\theta(X),Y)\r\n",
    "$$"
   ],
   "metadata": {
    "slideshow": {
     "slide_type": "slide"
    }
   }
  },
  {
   "cell_type": "markdown",
   "source": [],
   "metadata": {}
  },
  {
   "cell_type": "markdown",
   "source": [
    "Loss functions depend on the problem being solved.\r\n",
    "\r\n",
    "### Loss functions for regression\r\n",
    "\r\n",
    "For regression, we often use **abosolute error** $\\mathcal{L}_{abs}(\\theta) = \\sum_{i=1}^n |y_i - f_{\\theta}(x_i)|$, or **mean squared error**: $\\mathcal{L}_{sq}(\\theta) = \\sum_{i=1}^n (y_i - f_{\\theta}(x_i))^2$"
   ],
   "metadata": {
    "slideshow": {
     "slide_type": "slide"
    }
   }
  },
  {
   "cell_type": "code",
   "execution_count": null,
   "source": [
    "# helper function for plotting various loss functions\r\n",
    "def plot_loss_functions(suptitle, functions, ylabels, xlabel):\r\n",
    "    fig, ax = plt.subplots(1,len(functions), figsize=(9, 3))\r\n",
    "    plt.subplots_adjust(bottom=0.2, wspace=0.4)\r\n",
    "    fig.suptitle(suptitle)\r\n",
    "    for i, fun in enumerate(functions):\r\n",
    "        ax[i].set_xlabel(xlabel)\r\n",
    "        if len(ylabels) > i:\r\n",
    "            ax[i].set_ylabel(ylabels[i])\r\n",
    "        ax[i].plot(x, fun)\r\n",
    "    plt.show()"
   ],
   "outputs": [],
   "metadata": {
    "slideshow": {
     "slide_type": "skip"
    }
   }
  },
  {
   "cell_type": "code",
   "execution_count": null,
   "source": [
    "x = np.linspace(-2, 2, 101)\r\n",
    "plot_loss_functions(\r\n",
    "    suptitle = 'Common loss functions for regression',\r\n",
    "    functions = [np.abs(x), np.power(x, 2)],\r\n",
    "    ylabels   = ['$\\mathcal{L}_{abs}}$ (absolute loss)',\r\n",
    "                 '$\\mathcal{L}_{sq}$ (squared loss)'],\r\n",
    "    xlabel    = '$y - f(x_i)$')"
   ],
   "outputs": [],
   "metadata": {
    "slideshow": {
     "slide_type": "slide"
    }
   }
  },
  {
   "cell_type": "markdown",
   "source": [
    "### Loss functions for classification\r\n",
    "\r\n",
    "Let's consider binary classification for a moment. In this case we have two classes, numbered 0 and 1. The output of the network $f_\\theta(x_i)\\in [0,1]$ essentially defines the probability of choosing the class 1.\r\n",
    "\r\n",
    "**0-1 loss**\r\n",
    "\r\n",
    "0-1 loss is the same as calculating accuracy of the model - we compute the number of correct classifications:\r\n",
    "\r\n",
    "$$\\mathcal{L}_{0-1} = \\sum_{i=1}^n l_i \\quad  l_i = \\begin{cases}\r\n",
    "         0 & (f(x_i)<0.5 \\land y_i=0) \\lor (f(x_i)<0.5 \\land y_i=1) \\\\\r\n",
    "         1 & \\mathrm{ otherwise}\r\n",
    "       \\end{cases} \\\\\r\n",
    "$$\r\n",
    "\r\n",
    "However, accuracy itself does not show how far are we from the right classification. It could be that we missed the correct class just by a little bit, and that is in a way \"better\" (in a sense that we need to correct weights much less) than missing significantly. Thus, more often logistic loss is used, which takes this into account.\r\n",
    "\r\n",
    "**Logistic Loss**\r\n",
    "\r\n",
    "$$\\mathcal{L}_{log} = \\sum_{i=1}^n -y\\log(f_{\\theta}(x_i)) - (1-y)\\log(1-f_\\theta(x_i))$$"
   ],
   "metadata": {
    "slideshow": {
     "slide_type": "slide"
    }
   }
  },
  {
   "cell_type": "code",
   "execution_count": null,
   "source": [
    "x = np.linspace(0,1,100)\r\n",
    "def zero_one(d):\r\n",
    "    if d < 0.5:\r\n",
    "        return 0\r\n",
    "    return 1\r\n",
    "zero_one_v = np.vectorize(zero_one)\r\n",
    "\r\n",
    "def logistic_loss(fx):\r\n",
    "    # assumes y == 1\r\n",
    "    return -np.log(fx)"
   ],
   "outputs": [],
   "metadata": {}
  },
  {
   "cell_type": "code",
   "execution_count": null,
   "source": [
    "plot_loss_functions(suptitle = 'Common loss functions for classification (class=1)',\r\n",
    "                   functions = [zero_one_v(x), logistic_loss(x)],\r\n",
    "                   ylabels    = ['$\\mathcal{L}_{0-1}}$ (0-1 loss)',\r\n",
    "                                 '$\\mathcal{L}_{log}$ (logistic loss)'],\r\n",
    "                   xlabel     = '$p$')\r\n"
   ],
   "outputs": [],
   "metadata": {
    "slideshow": {
     "slide_type": "slide"
    }
   }
  },
  {
   "cell_type": "markdown",
   "source": [
    "## Neural Network Architecture\r\n",
    "\r\n",
    "We have generated a dataset for binary classification problem. However, let's consider it as multi-class classification right from the start, so that we can then easily switch our code to multi-class classification. In this case, our one-layer perceptron will have the following architecture:\r\n",
    "\r\n",
    "<img src=\"images/NeuroArch.png\" width=\"50%\"/>\r\n",
    "\r\n",
    "Two outputs of the network correspond to two classes, and the class with highest value among two outputs corresponds to the right solution.\r\n",
    "\r\n",
    "The model is defined as\r\n",
    "$$\r\n",
    "f_\\theta(x) = W\\times x + b\r\n",
    "$$\r\n",
    "where $$\\theta = \\langle W,b\\rangle$$ are parameters.\r\n",
    "\r\n",
    "We will define this linear layer as a Python class with a `forward` function that performs the calculation. It receives input value $x$, and produces the output of the layer. Parameters `W` and `b` are stored within the layer class, and are initialized upon creation with random values and zeroes respectively."
   ],
   "metadata": {
    "slideshow": {
     "slide_type": "slide"
    }
   }
  },
  {
   "cell_type": "code",
   "execution_count": null,
   "source": [
    "class Linear:\r\n",
    "    def __init__(self,nin,nout):\r\n",
    "        self.W = np.random.normal(0, 1.0/np.sqrt(nin), (nout, nin))\r\n",
    "        self.b = np.zeros((1,nout))\r\n",
    "        \r\n",
    "    def forward(self, x):\r\n",
    "        return np.dot(x, self.W.T) + self.b\r\n",
    "    \r\n",
    "net = Linear(2,2)\r\n",
    "net.forward(train_x[0:5])"
   ],
   "outputs": [],
   "metadata": {}
  },
  {
   "cell_type": "markdown",
   "source": [
    "Because we use Numpy operations, we can pass a vector if input values to our network, and it will give us the vector of output values.\r\n",
    "\r\n",
    "## Softmax: Turning Outputs into Probabilities\r\n",
    "\r\n",
    "As you can see, our outputs are not probabilities - they can take any values. In order to convert them into probabilities, we need to normalize the values across all classes. This is done using **softmax** function: $$\\sigma(\\mathbf{z}_c) = \\frac{e^{z_c}}{\\sum_{j} e^{z_j}}, \\quad\\mathrm{for}\\quad c\\in 1 .. |C|$$\r\n",
    "\r\n",
    "<img src=\"https://raw.githubusercontent.com/shwars/NeuroWorkshop/master/images/NeuroArch-softmax.PNG\" width=\"50%\">\r\n",
    "\r\n",
    "> Output of the network $\\sigma(\\mathbf{z})$ can be interpreted as probability distribution on the set of classes $C$: $q = \\sigma(\\mathbf{z}_c) = \\hat{p}(c | x)$\r\n",
    "\r\n",
    "We will define the `Softmax` layer in the same manner, as a class with `forward` function: "
   ],
   "metadata": {
    "slideshow": {
     "slide_type": "slide"
    }
   }
  },
  {
   "cell_type": "code",
   "execution_count": null,
   "source": [
    "class Softmax:\r\n",
    "    def forward(self,z):\r\n",
    "        zmax = z.max(axis=1,keepdims=True)\r\n",
    "        expz = np.exp(z-zmax)\r\n",
    "        Z = expz.sum(axis=1,keepdims=True)\r\n",
    "        return expz / Z\r\n",
    "\r\n",
    "softmax = Softmax()\r\n",
    "softmax.forward(net.forward(train_x[0:10]))"
   ],
   "outputs": [],
   "metadata": {}
  },
  {
   "cell_type": "markdown",
   "source": [
    "You can see that we are now getting probabilities as outputs, i.e. the sum of each output vector is exactly 1. \r\n",
    "\r\n",
    "In case we have more than 2 classes, softmax will normalize probabilities across all of them. Here is a diagram of network architecture that does MNIST digit classification:\r\n",
    "\r\n",
    "![MNIST Classifier](images/Cross-Entropy-Loss.PNG)\r\n"
   ],
   "metadata": {
    "slideshow": {
     "slide_type": "slide"
    }
   }
  },
  {
   "cell_type": "markdown",
   "source": [
    "## Cross-Entropy Loss\r\n",
    "\r\n",
    "A loss function in classification is typically a logistic function, which can be generalized as **cross-entropy loss**. Cross-entropy loss is a function that can calculate similarity between two arbitrary probability distributions. You can find more detailed discussion about it [on Wikipedia](https://en.wikipedia.org/wiki/Cross_entropy).\r\n",
    "\r\n",
    "In our case, first distribution is the probabilistic output of our network, and the second one is so-called **one-hot** distribution, which specifies that a given class $c$ has corresponding probability 1 (all the rest being 0). In such a case cross-entropy loss can be calculated as $-\\log p_c$, where $c$ is the expected class, and $p_c$ is the corresponding probability of this class given by our neural network.\r\n",
    "\r\n",
    "> If the network return probability 1 for the expected class, cross-entropy loss would be 0. The closer the probability of the actual class is to 0, the higher is cross-entropy loss (and it can go up to infinity!)."
   ],
   "metadata": {
    "slideshow": {
     "slide_type": "slide"
    }
   }
  },
  {
   "cell_type": "code",
   "execution_count": null,
   "source": [
    "def plot_cross_ent():\r\n",
    "    p = np.linspace(0.01, 0.99, 101) # estimated probability p(y|x)\r\n",
    "    cross_ent_v = np.vectorize(cross_ent)\r\n",
    "    f3, ax = plt.subplots(1,1, figsize=(8, 3))\r\n",
    "    l1, = plt.plot(p, cross_ent_v(p, 1), 'r--')\r\n",
    "    l2, = plt.plot(p, cross_ent_v(p, 0), 'r-')\r\n",
    "    plt.legend([l1, l2], ['$y = 1$', '$y = 0$'], loc = 'upper center', ncol = 2)\r\n",
    "    plt.xlabel('$\\hat{p}(y|x)$', size=18)\r\n",
    "    plt.ylabel('$\\mathcal{L}_{CE}$', size=18)\r\n",
    "    plt.show()"
   ],
   "outputs": [],
   "metadata": {
    "slideshow": {
     "slide_type": "skip"
    }
   }
  },
  {
   "cell_type": "code",
   "execution_count": null,
   "source": [
    "def cross_ent(prediction, ground_truth):\r\n",
    "    t = 1 if ground_truth > 0.5 else 0\r\n",
    "    return -t * np.log(prediction) - (1 - t) * np.log(1 - prediction)\r\n",
    "plot_cross_ent()"
   ],
   "outputs": [],
   "metadata": {
    "scrolled": true,
    "slideshow": {
     "slide_type": "slide"
    }
   }
  },
  {
   "cell_type": "markdown",
   "source": [
    "Cross-entropy loss will be defined again as a separate layer, but `forward` function will have two input values: output of the previous layers of the network `p`, and the expected class `y`:"
   ],
   "metadata": {}
  },
  {
   "cell_type": "code",
   "execution_count": null,
   "source": [
    "class CrossEntropyLoss:\r\n",
    "    def forward(self,p,y):\r\n",
    "        self.p = p\r\n",
    "        self.y = y\r\n",
    "        p_of_y = p[np.arange(len(y)), y]\r\n",
    "        log_prob = np.log(p_of_y)\r\n",
    "        return -log_prob.mean() # average over all input samples\r\n",
    "\r\n",
    "cross_ent_loss = CrossEntropyLoss()\r\n",
    "p = softmax.forward(net.forward(train_x[0:10]))\r\n",
    "cross_ent_loss.forward(p,train_labels[0:10])"
   ],
   "outputs": [],
   "metadata": {}
  },
  {
   "cell_type": "markdown",
   "source": [
    "> **IMPORTANT**: Loss function returns a number that shows how good (or bad) our network performs. It should return us one number for the whole dataset, or for the minibatch. Thus after calculating cross-entropy loss for each individual component of the input vector, we need to average (or add) all components together - which is done by the call to `.mean()`.\r\n",
    "\r\n",
    "## Computational Graph\r\n",
    "\r\n",
    "<img src=\"images/ComputeGraph.png\" width=\"600px\"/>\r\n",
    "\r\n",
    "Up to this moment, we have defined different classes for different layers of the network. Composition of those layers can be represented as **computational graph**. Now we can compute the loss for a given training dataset (or part of it) in the following manner:"
   ],
   "metadata": {
    "slideshow": {
     "slide_type": "slide"
    }
   }
  },
  {
   "cell_type": "code",
   "execution_count": null,
   "source": [
    "z = net.forward(train_x[0:10])\r\n",
    "p = softmax.forward(z)\r\n",
    "loss = cross_ent_loss.forward(p,train_labels[0:10])\r\n",
    "print(loss)"
   ],
   "outputs": [],
   "metadata": {}
  },
  {
   "cell_type": "markdown",
   "source": [
    "## Loss Minimization Problem and Network Training\r\n",
    "\r\n",
    "Once we have defined out network as $f_\\theta$, and given the loss function $\\mathcal{L}(Y,f_\\theta(X))$, we can consider $\\mathcal{L}$ as a function of $\\theta$ under our fixed training dataset: $\\mathcal{L}(\\theta) = \\mathcal{L}(Y,f_\\theta(X))$\r\n",
    "\r\n",
    "In this case, the network training would be a minimization problem of $\\mathcal{L}$ under argument $\\theta$:\r\n",
    "$$\r\n",
    "\\theta = \\mathrm{argmin}_{\\theta} \\mathcal{L}(Y,f_\\theta(X))\r\n",
    "$$\r\n",
    "\r\n",
    "There is a well-known method of function optimization called **gradient descent**. The idea is that we can compute a derivative (in multi-dimensional case call **gradient**) of loss function with respect to parameters, and vary parameters in such a way that the error would decrease.\r\n",
    "\r\n",
    "Gradient descent works as follows:\r\n",
    " * Initialize parameters by some random values $w^{(0)}$, $b^{(0)}$\r\n",
    " * Repeat the following step many times:\r\n",
    "\r\n",
    " $$\\begin{align}\r\n",
    " W^{(i+1)}&=W^{(i)}-\\eta\\frac{\\partial\\mathcal{L}}{\\partial W}\\\\\r\n",
    " b^{(i+1)}&=b^{(i)}-\\eta\\frac{\\partial\\mathcal{L}}{\\partial b}\r\n",
    " \\end{align}\r\n",
    " $$\r\n",
    "\r\n",
    "During training, the optimization steps are supposed to be calculated considering the whole dataset (remember that loss is calculated as a sum/average through all training samples). However, in real life we take small portions of the dataset called **minibatches**, and calculate gradients based on a subset of data. Because subset is taken randomly each time, such method is called **stochastic gradient descent** (SGD).\r\n",
    " "
   ],
   "metadata": {
    "slideshow": {
     "slide_type": "slide"
    }
   }
  },
  {
   "cell_type": "markdown",
   "source": [
    "## Backward Propagation\r\n",
    "\r\n",
    "<img src=\"images/ComputeGraph.png\" width=\"300px\" align=\"left\"/>\r\n",
    "\r\n",
    "$$\\def\\L{\\mathcal{L}}\\def\\zz#1#2{\\frac{\\partial#1}{\\partial#2}}\r\n",
    "\\begin{align}\r\n",
    "\\zz{\\L}{W} =& \\zz{\\L}{p}\\zz{p}{z}\\zz{z}{W}\\cr\r\n",
    "\\zz{\\L}{b} =& \\zz{\\L}{p}\\zz{p}{z}\\zz{z}{b}\r\n",
    "\\end{align}\r\n",
    "$$"
   ],
   "metadata": {
    "slideshow": {
     "slide_type": "slide"
    }
   }
  },
  {
   "cell_type": "markdown",
   "source": [
    "To compute $\\partial\\mathcal{L}/\\partial W$ we can use the **chaining rule** for computing derivatives of a composite function, as you can see in the formulae above. It corresponds to the following idea:\r\n",
    "\r\n",
    "* Suppose under given input we have obtanes loss $\\Delta\\mathcal{L}$\r\n",
    "* To minimize it, we would have to adjust softmax output $p$ by value $\\Delta p = (\\partial\\mathcal{L}/\\partial p)\\Delta\\mathcal{L}$  \r\n",
    "* This corresponds to the changes to node $z$ by $\\Delta z = (\\partial\\mathcal{p}/\\partial z)\\Delta p$\r\n",
    "* To minimize this error, we need to adjust parameters accordingly: $\\Delta W = (\\partial\\mathcal{z}/\\partial W)\\Delta z$ (and the same for $b$)\r\n",
    "\r\n",
    "<img src=\"images/ComputeGraphGrad.PNG\" width=\"400px\" align=\"right\"/>\r\n",
    "\r\n",
    "This process starts distributing the loss error from the output of the network back to its parameters. Thus the process is called **back propagation**.\r\n",
    "\r\n",
    "One pass of the network training consists of two parts:\r\n",
    "* **Forward pass**, when we calculate the value of loss function for a given input minibatch\r\n",
    "* **Backward pass**, when we try to minimize this error by distributing it back to the model parameters through the computational graph."
   ],
   "metadata": {
    "slideshow": {
     "slide_type": "slide"
    }
   }
  },
  {
   "cell_type": "markdown",
   "source": [
    "### Implementation of Back Propagation\r\n",
    "\r\n",
    "* Let's add `backward` function to each of our nodes that will compute the derivative and propagate the error during the backward pass.\r\n",
    "* We also need to implement parameter updates according to the procedure described above\r\n",
    "\r\n",
    "We need to compute derivatives for each layer manually, for example for linear layer $z = x\\times W+b$:\r\n",
    "$$\\begin{align}\r\n",
    "\\frac{\\partial z}{\\partial W} &= x \\\\\r\n",
    "\\frac{\\partial z}{\\partial b} &= 1 \\\\\r\n",
    "\\end{align}$$\r\n",
    "\r\n",
    "If we need to compensate for the error $\\Delta z$ at the output of the layer, we need to update the weights accordingly:\r\n",
    "$$\\begin{align}\r\n",
    "\\Delta x &= \\Delta z \\times W \\\\\r\n",
    "\\Delta W &= \\frac{\\partial z}{\\partial W} \\Delta z = \\Delta z \\times x \\\\\r\n",
    "\\Delta b &= \\frac{\\partial z}{\\partial b} \\Delta z = \\Delta z \\\\\r\n",
    "\\end{align}$$\r\n",
    "\r\n",
    "**IMPORTANT:** Calculations are done not for each training sample independently, but rather for a whole **minibatch**. Required parameter updates $\\Delta W$ and $\\Delta b$ are computed across the whole minibatch, and the respective vectors have dimensions: $x\\in\\mathbb{R}^{\\mathrm{minibatch}\\, \\times\\, \\mathrm{nclass}}$"
   ],
   "metadata": {}
  },
  {
   "cell_type": "code",
   "execution_count": null,
   "source": [
    "class Linear:\r\n",
    "    def __init__(self,nin,nout):\r\n",
    "        self.W = np.random.normal(0, 1.0/np.sqrt(nin), (nout, nin))\r\n",
    "        self.b = np.zeros((1,nout))\r\n",
    "        self.dW = np.zeros_like(self.W)\r\n",
    "        self.db = np.zeros_like(self.b)\r\n",
    "        \r\n",
    "    def forward(self, x):\r\n",
    "        self.x=x\r\n",
    "        return np.dot(x, self.W.T) + self.b\r\n",
    "    \r\n",
    "    def backward(self, dz):\r\n",
    "        dx = np.dot(dz, self.W)\r\n",
    "        dW = np.dot(dz.T, self.x)\r\n",
    "        db = dz.sum(axis=0)\r\n",
    "        self.dW = dW\r\n",
    "        self.db = db\r\n",
    "        return dx\r\n",
    "    \r\n",
    "    def update(self,lr):\r\n",
    "        self.W -= lr*self.dW\r\n",
    "        self.b -= lr*self.db"
   ],
   "outputs": [],
   "metadata": {}
  },
  {
   "cell_type": "markdown",
   "source": [
    "In the same manner we can define `backward` function for the rest of our layers:"
   ],
   "metadata": {}
  },
  {
   "cell_type": "code",
   "execution_count": null,
   "source": [
    "class Softmax:\r\n",
    "    def forward(self,z):\r\n",
    "        self.z = z\r\n",
    "        zmax = z.max(axis=1,keepdims=True)\r\n",
    "        expz = np.exp(z-zmax)\r\n",
    "        Z = expz.sum(axis=1,keepdims=True)\r\n",
    "        return expz / Z\r\n",
    "    def backward(self,dp):\r\n",
    "        p = self.forward(self.z)\r\n",
    "        pdp = p * dp\r\n",
    "        return pdp - p * pdp.sum(axis=1, keepdims=True)\r\n",
    "    \r\n",
    "class CrossEntropyLoss:\r\n",
    "    def forward(self,p,y):\r\n",
    "        self.p = p\r\n",
    "        self.y = y\r\n",
    "        p_of_y = p[np.arange(len(y)), y]\r\n",
    "        log_prob = np.log(p_of_y)\r\n",
    "        return -log_prob.mean()\r\n",
    "    def backward(self,loss):\r\n",
    "        dlog_softmax = np.zeros_like(self.p)\r\n",
    "        dlog_softmax[np.arange(len(self.y)), self.y] -= 1.0/len(self.y)\r\n",
    "        return dlog_softmax / self.p"
   ],
   "outputs": [],
   "metadata": {}
  },
  {
   "cell_type": "markdown",
   "source": [
    "## Training the Model\r\n",
    "\r\n",
    "Now we are ready to write the **training loop**, which will go through our dataset, and perform the optimization minibatch by minibatch.One complete pass through the dataset is often called **an epoch**:"
   ],
   "metadata": {}
  },
  {
   "cell_type": "code",
   "execution_count": null,
   "source": [
    "lin = Linear(2,2)\r\n",
    "softmax = Softmax()\r\n",
    "cross_ent_loss = CrossEntropyLoss()\r\n",
    "\r\n",
    "learning_rate = 0.1\r\n",
    "\r\n",
    "pred = np.argmax(lin.forward(train_x),axis=1)\r\n",
    "acc = (pred==train_labels).mean()\r\n",
    "print(\"Initial accuracy: \",acc)\r\n",
    "\r\n",
    "batch_size=4\r\n",
    "for i in range(0,len(train_x),batch_size):\r\n",
    "    xb = train_x[i:i+batch_size]\r\n",
    "    yb = train_labels[i:i+batch_size]\r\n",
    "    \r\n",
    "    # forward pass\r\n",
    "    z = lin.forward(xb)\r\n",
    "    p = softmax.forward(z)\r\n",
    "    loss = cross_ent_loss.forward(p,yb)\r\n",
    "    \r\n",
    "    # backward pass\r\n",
    "    dp = cross_ent_loss.backward(loss)\r\n",
    "    dz = softmax.backward(dp)\r\n",
    "    dx = lin.backward(dz)\r\n",
    "    lin.update(learning_rate)\r\n",
    "    \r\n",
    "pred = np.argmax(lin.forward(train_x),axis=1)\r\n",
    "acc = (pred==train_labels).mean()\r\n",
    "print(\"Final accuracy: \",acc)\r\n",
    "    "
   ],
   "outputs": [],
   "metadata": {}
  },
  {
   "cell_type": "markdown",
   "source": [
    "Nice to see how we can increase accuracy of the model from about 50% to around 80% in one epoch.\r\n",
    "\r\n",
    "## Network Class\r\n",
    "\r\n",
    "Since in many cases neural network is just a composition of layers, we can build a class that will allow us to stack layers together and make forward and backward passes through them without explicitly programming that logic. We will store the list of layers inside the `Net` class, and use `add()` function to add new layers:"
   ],
   "metadata": {}
  },
  {
   "cell_type": "code",
   "execution_count": null,
   "source": [
    "class Net:\r\n",
    "    def __init__(self):\r\n",
    "        self.layers = []\r\n",
    "    \r\n",
    "    def add(self,l):\r\n",
    "        self.layers.append(l)\r\n",
    "        \r\n",
    "    def forward(self,x):\r\n",
    "        for l in self.layers:\r\n",
    "            x = l.forward(x)\r\n",
    "        return x\r\n",
    "    \r\n",
    "    def backward(self,z):\r\n",
    "        for l in self.layers[::-1]:\r\n",
    "            z = l.backward(z)\r\n",
    "        return z\r\n",
    "    \r\n",
    "    def update(self,lr):\r\n",
    "        for l in self.layers:\r\n",
    "            if 'update' in l.__dir__():\r\n",
    "                l.update(lr)"
   ],
   "outputs": [],
   "metadata": {
    "scrolled": true,
    "slideshow": {
     "slide_type": "skip"
    }
   }
  },
  {
   "cell_type": "markdown",
   "source": [
    "With this `Net` class our model definition and training becomes more neat:"
   ],
   "metadata": {}
  },
  {
   "cell_type": "code",
   "execution_count": null,
   "source": [
    "net = Net()\r\n",
    "net.add(Linear(2,2))\r\n",
    "net.add(Softmax())\r\n",
    "loss = CrossEntropyLoss()\r\n",
    "\r\n",
    "def get_loss_acc(x,y,loss=CrossEntropyLoss()):\r\n",
    "    p = net.forward(x)\r\n",
    "    l = loss.forward(p,y)\r\n",
    "    pred = np.argmax(p,axis=1)\r\n",
    "    acc = (pred==y).mean()\r\n",
    "    return l,acc\r\n",
    "\r\n",
    "print(\"Initial loss={}, accuracy={}: \".format(*get_loss_acc(train_x,train_labels)))\r\n",
    "\r\n",
    "def train_epoch(net, train_x, train_labels, loss=CrossEntropyLoss(), batch_size=4, lr=0.1):\r\n",
    "    for i in range(0,len(train_x),batch_size):\r\n",
    "        xb = train_x[i:i+batch_size]\r\n",
    "        yb = train_labels[i:i+batch_size]\r\n",
    "\r\n",
    "        p = net.forward(xb)\r\n",
    "        l = loss.forward(p,yb)\r\n",
    "        dp = loss.backward(l)\r\n",
    "        dx = net.backward(dp)\r\n",
    "        net.update(lr)\r\n",
    " \r\n",
    "train_epoch(net,train_x,train_labels)\r\n",
    "        \r\n",
    "print(\"Final loss={}, accuracy={}: \".format(*get_loss_acc(train_x,train_labels)))\r\n",
    "print(\"Test loss={}, accuracy={}: \".format(*get_loss_acc(test_x,test_labels)))"
   ],
   "outputs": [],
   "metadata": {}
  },
  {
   "cell_type": "markdown",
   "source": [
    "## Plotting the Training Process\r\n",
    "\r\n",
    "It would be nice to see visually how the network is being trained! We will define a `train_and_plot` function for that. To visualize the state of the network we will use level map, i.e. we will represent different values of the network output using different colors.\r\n",
    "\r\n",
    "> Do not worry if you do not understand some of the plotting code below - it is more important to understand the underlying neural network concepts."
   ],
   "metadata": {}
  },
  {
   "cell_type": "code",
   "execution_count": null,
   "source": [
    "def train_and_plot(n_epoch, net, loss=CrossEntropyLoss(), batch_size=4, lr=0.1):\r\n",
    "    fig, ax = plt.subplots(2, 1)\r\n",
    "    ax[0].set_xlim(0, n_epoch + 1)\r\n",
    "    ax[0].set_ylim(0,1)\r\n",
    "\r\n",
    "    train_acc = np.empty((n_epoch, 3))\r\n",
    "    train_acc[:] = np.NAN\r\n",
    "    valid_acc = np.empty((n_epoch, 3))\r\n",
    "    valid_acc[:] = np.NAN\r\n",
    "\r\n",
    "    for epoch in range(1, n_epoch + 1):\r\n",
    "\r\n",
    "        train_epoch(net,train_x,train_labels,loss,batch_size,lr)\r\n",
    "        tloss, taccuracy = get_loss_acc(train_x,train_labels,loss)\r\n",
    "        train_acc[epoch-1, :] = [epoch, tloss, taccuracy]\r\n",
    "        vloss, vaccuracy = get_loss_acc(test_x,test_labels,loss)\r\n",
    "        valid_acc[epoch-1, :] = [epoch, vloss, vaccuracy]\r\n",
    "        \r\n",
    "        ax[0].set_ylim(0, max(max(train_acc[:, 2]), max(valid_acc[:, 2])) * 1.1)\r\n",
    "\r\n",
    "        plot_training_progress(train_acc[:, 0], (train_acc[:, 2],\r\n",
    "                                                 valid_acc[:, 2]), fig, ax[0])\r\n",
    "        plot_decision_boundary(net, fig, ax[1])\r\n",
    "        fig.canvas.draw()\r\n",
    "        fig.canvas.flush_events()\r\n",
    "\r\n",
    "    return train_acc, valid_acc"
   ],
   "outputs": [],
   "metadata": {
    "slideshow": {
     "slide_type": "skip"
    }
   }
  },
  {
   "cell_type": "code",
   "execution_count": null,
   "source": [
    "import matplotlib.cm as cm\r\n",
    "\r\n",
    "def plot_decision_boundary(net, fig, ax):\r\n",
    "    draw_colorbar = True\r\n",
    "    # remove previous plot\r\n",
    "    while ax.collections:\r\n",
    "        ax.collections.pop()\r\n",
    "        draw_colorbar = False\r\n",
    "\r\n",
    "    # generate countour grid\r\n",
    "    x_min, x_max = train_x[:, 0].min() - 1, train_x[:, 0].max() + 1\r\n",
    "    y_min, y_max = train_x[:, 1].min() - 1, train_x[:, 1].max() + 1\r\n",
    "    xx, yy = np.meshgrid(np.arange(x_min, x_max, 0.1),\r\n",
    "                         np.arange(y_min, y_max, 0.1))\r\n",
    "    grid_points = np.c_[xx.ravel().astype('float32'), yy.ravel().astype('float32')]\r\n",
    "    n_classes = max(train_labels)+1\r\n",
    "    while train_x.shape[1] > grid_points.shape[1]:\r\n",
    "        # pad dimensions (plot only the first two)\r\n",
    "        grid_points = np.c_[grid_points,\r\n",
    "                            np.empty(len(xx.ravel())).astype('float32')]\r\n",
    "        grid_points[:, -1].fill(train_x[:, grid_points.shape[1]-1].mean())\r\n",
    "\r\n",
    "    # evaluate predictions\r\n",
    "    prediction = np.array(net.forward(grid_points))\r\n",
    "    # for two classes: prediction difference\r\n",
    "    if (n_classes == 2):\r\n",
    "        Z = np.array([0.5+(p[0]-p[1])/2.0 for p in prediction]).reshape(xx.shape)\r\n",
    "    else:\r\n",
    "        Z = np.array([p.argsort()[-1]/float(n_classes-1) for p in prediction]).reshape(xx.shape)\r\n",
    "    \r\n",
    "    # draw contour\r\n",
    "    levels = np.linspace(0, 1, 40)\r\n",
    "    cs = ax.contourf(xx, yy, Z, alpha=0.4, levels = levels)\r\n",
    "    if draw_colorbar:\r\n",
    "        fig.colorbar(cs, ax=ax, ticks = [0, 0.5, 1])\r\n",
    "    c_map = [cm.jet(x) for x in np.linspace(0.0, 1.0, n_classes) ]\r\n",
    "    colors = [c_map[l] for l in train_labels]\r\n",
    "    ax.scatter(train_x[:, 0], train_x[:, 1], marker='o', c=colors, s=60, alpha = 0.5)"
   ],
   "outputs": [],
   "metadata": {
    "slideshow": {
     "slide_type": "skip"
    }
   }
  },
  {
   "cell_type": "code",
   "execution_count": null,
   "source": [
    "def plot_training_progress(x, y_data, fig, ax):\r\n",
    "    styles = ['k--', 'g-']\r\n",
    "    # remove previous plot\r\n",
    "    while ax.lines:\r\n",
    "        ax.lines.pop()\r\n",
    "    # draw updated lines\r\n",
    "    for i in range(len(y_data)):\r\n",
    "        ax.plot(x, y_data[i], styles[i])\r\n",
    "    ax.legend(ax.lines, ['training accuracy', 'validation accuracy'],\r\n",
    "              loc='upper center', ncol = 2)"
   ],
   "outputs": [],
   "metadata": {
    "slideshow": {
     "slide_type": "skip"
    }
   }
  },
  {
   "cell_type": "code",
   "execution_count": null,
   "source": [
    "%matplotlib nbagg \r\n",
    "net = Net()\r\n",
    "net.add(Linear(2,2))\r\n",
    "net.add(Softmax())\r\n",
    "\r\n",
    "res = train_and_plot(30,net,lr=0.005)"
   ],
   "outputs": [],
   "metadata": {
    "slideshow": {
     "slide_type": "slide"
    }
   }
  },
  {
   "cell_type": "markdown",
   "source": [
    "After running the cell above you should be able to see interactively how the boundary between classes change during training. Note that we have chosen very small learning rate so that we can see how the process happens.\r\n",
    "\r\n",
    "## Multi-Layered Models\r\n",
    "\r\n",
    "The network above has been constructed from several layers, but we still had only one `Linear` layer, which does the actual classification. What happens if we decide to add several such layers?\r\n",
    "\r\n",
    "Surprisingly, our code will work! Very important thing to note, however, is that in between linear layers we need to have a non-linear **activation function**, such as `tanh`. Without such non-linearity, several linear layers would have the same expressive power as just one layers - because composition of linear functions is also linear!"
   ],
   "metadata": {
    "slideshow": {
     "slide_type": "slide"
    }
   }
  },
  {
   "cell_type": "code",
   "execution_count": null,
   "source": [
    "class Tanh:\r\n",
    "    def forward(self,x):\r\n",
    "        y = np.tanh(x)\r\n",
    "        self.y = y\r\n",
    "        return y\r\n",
    "    def backward(self,dy):\r\n",
    "        return (1.0-self.y**2)*dy"
   ],
   "outputs": [],
   "metadata": {}
  },
  {
   "cell_type": "markdown",
   "source": [
    " Adding several layers make sense, because unlike one-layer network, multi-layered model will be able to accuratley classify sets that are not linearly separable. I.e., a model with several layers will be **reacher**.\r\n",
    "\r\n",
    "> It can be demonstrated that with sufficient number of neurons a two-layered model is capable to classifying any convex set of data points, and three-layered network can classify virtually any set.\r\n",
    "\r\n",
    "Mathematically, multi-layered perceptron would be represented by a more complex function $f_\\theta$ that can be computed in several steps:\r\n",
    "* $z_1 = W_1\\times x+b_1$\r\n",
    "* $z_2 = W_2\\times\\alpha(z_1)+b_2$\r\n",
    "* $f = \\sigma(z_2)$\r\n",
    "\r\n",
    "Here, $\\alpha$ is a **non-linear activation function**, $\\sigma$ is a softmax function, and $\\theta=\\langle W_1,b_1,W_2,b_2\\rangle$ are parameters.\r\n",
    "\r\n",
    "The gradient descent algorithm would remain the same, but it would be more difficult to calculate gradients. Given the\r\n",
    " chain differentiation rule, we can calculate derivatives as:\r\n",
    "\r\n",
    "$$\\begin{align}\r\n",
    "\\frac{\\partial\\mathcal{L}}{\\partial W_2} &= \\color{red}{\\frac{\\partial\\mathcal{L}}{\\partial\\sigma}\\frac{\\partial\\sigma}{\\partial z_2}}\\color{black}{\\frac{\\partial z_2}{\\partial W_2}} \\\\\r\n",
    "\\frac{\\partial\\mathcal{L}}{\\partial W_1} &= \\color{red}{\\frac{\\partial\\mathcal{L}}{\\partial\\sigma}\\frac{\\partial\\sigma}{\\partial z_2}}\\color{black}{\\frac{\\partial z_2}{\\partial\\alpha}\\frac{\\partial\\alpha}{\\partial z_1}\\frac{\\partial z_1}{\\partial W_1}}\r\n",
    "\\end{align}\r\n",
    "$$\r\n",
    "\r\n",
    "Note that the beginning of all those expressions is still the same, and thus we can continue back propagation beyond one linear layers to adjust further weights up the computational graph.\r\n",
    "\r\n",
    "Let's now experiment with two-layered network:"
   ],
   "metadata": {}
  },
  {
   "cell_type": "code",
   "execution_count": null,
   "source": [
    "net = Net()\r\n",
    "net.add(Linear(2,10))\r\n",
    "net.add(Tanh())\r\n",
    "net.add(Linear(10,2))\r\n",
    "net.add(Softmax())\r\n",
    "loss = CrossEntropyLoss()"
   ],
   "outputs": [],
   "metadata": {}
  },
  {
   "cell_type": "code",
   "execution_count": null,
   "source": [
    "res = train_and_plot(30,net,lr=0.01)"
   ],
   "outputs": [],
   "metadata": {
    "scrolled": false,
    "slideshow": {
     "slide_type": "slide"
    }
   }
  },
  {
   "cell_type": "markdown",
   "source": [
    "## Why Not Always Use Multi-Layered Model?\r\n",
    "\r\n",
    "We have seen that multi-layered model is more *powerful* and *expressive*, than one-layered one. You may be wondering why don't we always use many-layered model. The answer to this question is **overfitting**.\r\n",
    "\r\n",
    "We will deal with this term more in a later sections, but the idea is the following: **the more powerful the model is, the better it can approximate training data, and the more data it needs to properly generalize** for the new data it has not seen before.\r\n",
    "\r\n",
    "**A linear model:**\r\n",
    "* We are likely to get high training loss - so-called **underfitting**, when the model does not have enough power to correctly separate all data. \r\n",
    "* Valiadation loss and training loss are more or less the same. The model is likely to generalize well to test data.\r\n",
    "\r\n",
    "**Complex multi-layered model**\r\n",
    "* Low training loss - the model can approximate training data well, because it has enough expressive power.\r\n",
    "* Validation loss can be much higher than training loss and can start to increase during training - this is because the model \"memorizes\" training points, and loses the \"overall picture\"\r\n",
    "\r\n",
    "![Overfitting](images/overfit.png)\r\n",
    "\r\n",
    "> On this picture, `x` stands for training data, `o` - validation data. Left - linear model (one-layer), it approximates the nature of the data pretty well. Right - overfitted model, the model perfectly well approximates training data, but stops making sense with any other data (validation error is very high)"
   ],
   "metadata": {
    "slideshow": {
     "slide_type": "slide"
    }
   }
  },
  {
   "cell_type": "markdown",
   "source": [
    "## Takeaways\r\n",
    "\r\n",
    "* Simple models (fewer layers, fewer neurons) with low number of parameters (\"low capacity\") are less likely to overfit\r\n",
    "* More complex models (more layers, more neurons on each layer, high capacity) are likely to overfit. We need to monitor validation error to make sure it does not start to rise with further training\r\n",
    "* More complex models need more data to train on.\r\n",
    "* You can solve overfitting problem by either:\r\n",
    "    - simplifying your model\r\n",
    "    - increasing the amount of training data\r\n",
    "* **Bias-variance trade-off** is a term that shows that you need to get the compromise\r\n",
    "    - between power of the model and amount of data,\r\n",
    "    - between overfittig and underfitting\r\n",
    "* There is not single recipe on how many layers of parameters you need - the best way is to experiment"
   ],
   "metadata": {
    "slideshow": {
     "slide_type": "slide"
    }
   }
  },
  {
   "cell_type": "markdown",
   "source": [
    "## Credits\r\n",
    "\r\n",
    "This notebook is a part of [AI for Beginners Curricula](http://github.com/microsoft/ai-for-beginners), and has been prepared by [Dmitry Soshnikov](http://soshnikov.com). It is inspired by Neural Network Workshop at Microsoft Research Cambridge. Some code and illustrative materials are taken from presentations by [Katja Hoffmann](https://www.microsoft.com/en-us/research/people/kahofman/), [Matthew Johnson](https://www.microsoft.com/en-us/research/people/matjoh/) and [Ryoto Tomioka](https://www.microsoft.com/en-us/research/people/ryoto/), and from [NeuroWorkshop](http://github.com/shwars/NeuroWorkshop) repository."
   ],
   "metadata": {}
  }
 ],
 "metadata": {
  "celltoolbar": "Slideshow",
  "kernelspec": {
   "name": "python3",
   "display_name": "Python 3.8.8 64-bit ('base': conda)"
  },
  "language_info": {
   "codemirror_mode": {
    "name": "ipython",
    "version": 3
   },
   "file_extension": ".py",
   "mimetype": "text/x-python",
   "name": "python",
   "nbconvert_exporter": "python",
   "pygments_lexer": "ipython3",
   "version": "3.8.8"
  },
  "livereveal": {
   "start_slideshow_at": "selected"
  },
  "interpreter": {
   "hash": "86193a1ab0ba47eac1c69c1756090baa3b420b3eea7d4aafab8b85f8b312f0c5"
  }
 },
 "nbformat": 4,
 "nbformat_minor": 1
}