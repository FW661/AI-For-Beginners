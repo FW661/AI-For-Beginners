{
  "nbformat": 4,
  "nbformat_minor": 0,
  "metadata": {
    "celltoolbar": "Slideshow",
    "kernelspec": {
      "name": "python3",
      "display_name": "Python 3",
      "language": "python"
    },
    "language_info": {
      "mimetype": "text/x-python",
      "nbconvert_exporter": "python",
      "name": "python",
      "file_extension": ".py",
      "version": "3.7.4-final",
      "pygments_lexer": "ipython3",
      "codemirror_mode": {
        "version": 3,
        "name": "ipython"
      }
    },
    "livereveal": {
      "start_slideshow_at": "selected"
    },
    "colab": {
      "name": "IntroKerasTF.ipynb",
      "provenance": [],
      "collapsed_sections": []
    }
  },
  "cells": [
    {
      "cell_type": "markdown",
      "metadata": {
        "id": "En2vX4FuwHlu"
      },
      "source": [
        "# Введение в нейронные сети\n",
        "\n",
        "## Эпизод 2а: Многослойный персептрон на TensorFlow и Keras\n",
        "\n",
        "Дмитрий Сошников | dmitri@soshnikov.com\n",
        "\n",
        "http://github.com/shwars/NeuroWorkshop\n",
        "-> Notebooks -> IntroKerasTF.ipynb"
      ]
    },
    {
      "cell_type": "markdown",
      "metadata": {
        "id": "fVjlmWBwwHl2"
      },
      "source": [
        "## Нейросетевые фреймворки\n",
        "\n",
        "Мы видели, что для обучения нейросетей нужно:\n",
        "* Быстро умножать матрицы (тензоры)\n",
        "* Считать производные для вычисления градиента для метода обратного распространения ошибки\n",
        "\n",
        "Что позволяют делать нейросетевые фреймворки:\n",
        "* Оперировать с тензорами, как на CPU, так и на GPU\n",
        "* Автоматически вычислять производные (они вручную прописаны для всех элементарных функций)\n",
        "\n",
        "Опционально:\n",
        "* Конструктор для нейросетей (описание сети как набора слоёв)\n",
        "* Простые функции для обучения (`fit`, как в Scikit Learn)\n",
        "* Набор алгоритмов оптимизации\n",
        "* Набор абстракций для работы с данными"
      ]
    },
    {
      "cell_type": "markdown",
      "metadata": {
        "id": "8cACQoFMwHl3"
      },
      "source": [
        "## Основные фреймворки\n",
        "\n",
        "* Tensorflow 1.0 - первый, получивший широкое распространение (Google). Позволял определять статический computation graph, и затем в явном виде выполнять вычисления\n",
        "* PyTorch - Facebook\n",
        "* Keras - надстройка над Tensorflow/PyTorch для унификации (Francois Chollet)\n",
        "* Tensorflow 2.0 + Keras - динамический вычислительный граф, код получается похожим на обычные вычисления в numpy\n",
        "\n",
        "Мы рассмотрим Tensorflow 2.0 и Keras. Вам необходимо убедиться, что у вас установлена версия 2.x.x Tensorflow:\n",
        "```\n",
        "pip install tensorflow\n",
        "```\n",
        "или\n",
        "```\n",
        "conda install tensorflow\n",
        "```\n",
        "или выполняйте код в [Google Colab](https://colab.research.google.com/)"
      ]
    },
    {
      "cell_type": "code",
      "metadata": {
        "tags": [],
        "colab": {
          "base_uri": "https://localhost:8080/"
        },
        "id": "xwqVx9-bwHl3",
        "outputId": "2aa591b4-b647-441f-9c8e-4e0da2d517a0"
      },
      "source": [
        "import tensorflow as tf\n",
        "import numpy as np\n",
        "print(tf.__version__)"
      ],
      "execution_count": 1,
      "outputs": [
        {
          "output_type": "stream",
          "text": [
            "2.4.1\n"
          ],
          "name": "stdout"
        }
      ]
    },
    {
      "cell_type": "markdown",
      "metadata": {
        "id": "6tp2xGV7wHl4"
      },
      "source": [
        "## Основные понятия в TensorFlow\n",
        "\n",
        "**Тензор** - это многомерный массив произвольной размерности. Удобно использовать при обучении нейросетей, например:\n",
        "* 400x400 - чёрно-белая картинка\n",
        "* 400x400x3 - цветная картинка\n",
        "* 16x400x400x3 - minibatch из 16 картинок, используемый для одного шага обучения\n",
        "* 25x400x400x3 - секунда видео\n",
        "* 8x25x400x400x3 - minibatch из 8 1-секундных видео"
      ]
    },
    {
      "cell_type": "markdown",
      "metadata": {
        "id": "qG2bsaR7wHl4"
      },
      "source": [
        "### Простые тензоры"
      ]
    },
    {
      "cell_type": "code",
      "metadata": {
        "trusted": true,
        "colab": {
          "base_uri": "https://localhost:8080/"
        },
        "id": "ybpnk08HwHl4",
        "outputId": "fad9ed4a-df82-44a0-84ea-324bc71ea46f"
      },
      "source": [
        "a = tf.constant([[1,2],[3,4]])\n",
        "print(a)\n",
        "a = tf.random.normal(shape=(10,3))\n",
        "print(a)"
      ],
      "execution_count": 2,
      "outputs": [
        {
          "output_type": "stream",
          "text": [
            "tf.Tensor(\n",
            "[[1 2]\n",
            " [3 4]], shape=(2, 2), dtype=int32)\n",
            "tf.Tensor(\n",
            "[[ 1.1846514   0.7508411  -1.2235912 ]\n",
            " [ 0.9710432  -0.15184928 -0.10070106]\n",
            " [ 0.01476252 -0.19518584  0.43259642]\n",
            " [ 1.8912938   0.6803918  -0.41853315]\n",
            " [-1.0234195  -0.46338254 -1.6521171 ]\n",
            " [-2.6472843   0.72314113 -0.8514363 ]\n",
            " [-0.2650735  -0.22901714 -0.4702833 ]\n",
            " [ 0.4691955  -0.6513927  -0.22865944]\n",
            " [-1.0068002   2.3035717  -0.8701199 ]\n",
            " [ 0.35074237  0.192767   -1.013126  ]], shape=(10, 3), dtype=float32)\n"
          ],
          "name": "stdout"
        }
      ]
    },
    {
      "cell_type": "markdown",
      "metadata": {
        "id": "AXFMsV3r09Ux"
      },
      "source": [
        "С тензорами можно производить обычные вычисления, которые производятся поэлементно (как в numpy). При этом тензоры автоматически дополняются до нужной размерности. Можно извлечь numpy-массив из тензора при помощи `.numpy()`:"
      ]
    },
    {
      "cell_type": "code",
      "metadata": {
        "colab": {
          "base_uri": "https://localhost:8080/"
        },
        "id": "e5Nu5Xgj1DnQ",
        "outputId": "0dfc8758-4ffd-4968-c7bf-6ba8d435df2e"
      },
      "source": [
        "print(a-a[0])\r\n",
        "print(tf.exp(a)[0].numpy())"
      ],
      "execution_count": 3,
      "outputs": [
        {
          "output_type": "stream",
          "text": [
            "tf.Tensor(\n",
            "[[ 0.          0.          0.        ]\n",
            " [-0.21360815 -0.90269035  1.1228901 ]\n",
            " [-1.1698889  -0.9460269   1.6561877 ]\n",
            " [ 0.7066424  -0.07044929  0.80505806]\n",
            " [-2.2080708  -1.2142236  -0.42852592]\n",
            " [-3.8319356  -0.02769995  0.3721549 ]\n",
            " [-1.4497249  -0.9798582   0.75330794]\n",
            " [-0.7154559  -1.4022338   0.99493176]\n",
            " [-2.1914515   1.5527306   0.35347128]\n",
            " [-0.83390903 -0.5580741   0.2104652 ]], shape=(10, 3), dtype=float32)\n",
            "[3.2695467  2.1187813  0.29417184]\n"
          ],
          "name": "stdout"
        }
      ]
    },
    {
      "cell_type": "markdown",
      "metadata": {
        "id": "uQ5zN6cVyrG7"
      },
      "source": [
        "## Переменные\r\n",
        "\r\n",
        "Переменные могут содержать какие-то значения, которые мы затем можем модифицировать с помощью методов `assign` и `assign_add`. \r\n",
        "\r\n",
        "Например, вот глупый способ посчитать сумму всех строк тензора `a`"
      ]
    },
    {
      "cell_type": "code",
      "metadata": {
        "colab": {
          "base_uri": "https://localhost:8080/"
        },
        "id": "7pu0UZ-_yqfB",
        "outputId": "6708c83e-02e6-4442-8757-45918eb1fbc2"
      },
      "source": [
        "s = tf.Variable(tf.zeros_like(a[0]))\r\n",
        "for i in a:\r\n",
        "  s.assign_add(i)\r\n",
        "\r\n",
        "print(s)"
      ],
      "execution_count": 4,
      "outputs": [
        {
          "output_type": "stream",
          "text": [
            "<tf.Variable 'Variable:0' shape=(3,) dtype=float32, numpy=array([-0.0608891,  2.9598851, -6.3959713], dtype=float32)>\n"
          ],
          "name": "stdout"
        }
      ]
    },
    {
      "cell_type": "markdown",
      "metadata": {
        "id": "rIh1EHcezlNo"
      },
      "source": [
        "Умный способ:"
      ]
    },
    {
      "cell_type": "code",
      "metadata": {
        "colab": {
          "base_uri": "https://localhost:8080/"
        },
        "id": "aQIdWZ1kzn6P",
        "outputId": "1c123d9a-ecd2-4f2e-828e-5ade85ac8f63"
      },
      "source": [
        "tf.reduce_sum(a,axis=0)"
      ],
      "execution_count": 8,
      "outputs": [
        {
          "output_type": "execute_result",
          "data": {
            "text/plain": [
              "<tf.Tensor: shape=(3,), dtype=float32, numpy=array([1.8912938 , 2.3035717 , 0.43259642], dtype=float32)>"
            ]
          },
          "metadata": {
            "tags": []
          },
          "execution_count": 8
        }
      ]
    },
    {
      "cell_type": "markdown",
      "metadata": {
        "id": "U-auwezDwHl6"
      },
      "source": [
        "## Вычисляем производные\r\n",
        "\r\n",
        "Для обратного распространения ошибки, нам нужно уметь вычислять градиенты. Это делается с помощью `tf.GradientTape()`:\r\n",
        " * Оборачиваем интересующие нас вычисления в `with tf.GradientTape`\r\n",
        " * Помечаем интересующие нас тензоры вызовом `tape.watch` (переменные отслеживаются автоматически)\r\n",
        " * Проводим вычисления\r\n",
        " * Получаем градиенты через `tape.gradient` "
      ]
    },
    {
      "cell_type": "code",
      "metadata": {
        "trusted": true,
        "colab": {
          "base_uri": "https://localhost:8080/"
        },
        "id": "m8vFOXr7wHl6",
        "outputId": "860ac72e-50c7-4ff2-f258-747f27194f90"
      },
      "source": [
        "a = tf.random.normal(shape=(2, 2))\n",
        "b = tf.random.normal(shape=(2, 2))\n",
        "\n",
        "with tf.GradientTape() as tape:\n",
        "  tape.watch(a)  # Start recording the history of operations applied to `a`\n",
        "  c = tf.sqrt(tf.square(a) + tf.square(b))  # Do some math using `a`\n",
        "  # What's the gradient of `c` with respect to `a`?\n",
        "  dc_da = tape.gradient(c, a)\n",
        "  print(dc_da)"
      ],
      "execution_count": 9,
      "outputs": [
        {
          "output_type": "stream",
          "text": [
            "tf.Tensor(\n",
            "[[0.9086961  0.954213  ]\n",
            " [0.85484374 0.9623889 ]], shape=(2, 2), dtype=float32)\n"
          ],
          "name": "stdout"
        }
      ]
    },
    {
      "cell_type": "markdown",
      "metadata": {
        "id": "8sfjBMBu59B5"
      },
      "source": [
        "## Пример 1: Линейная регрессия\r\n",
        "\r\n",
        "Попробуем с помощью полученных знаний решить классическую задачу линейной регрессии. Для этого сгенерируем небольшой синтетический датасет:"
      ]
    },
    {
      "cell_type": "code",
      "metadata": {
        "trusted": true,
        "id": "j723455WwHl7"
      },
      "source": [
        "import matplotlib.pyplot as plt\n",
        "from sklearn.datasets import make_classification, make_regression\n",
        "from sklearn.model_selection import train_test_split\n",
        "import random"
      ],
      "execution_count": 10,
      "outputs": []
    },
    {
      "cell_type": "code",
      "metadata": {
        "colab": {
          "base_uri": "https://localhost:8080/",
          "height": 282
        },
        "id": "WJNK_J6v6I-Z",
        "outputId": "eb4a66a6-6b9a-4c8a-bc24-d81eeb2d3f27"
      },
      "source": [
        "np.random.seed(13) # pick the seed for reproducability - change it to explore the effects of random variations\r\n",
        "\r\n",
        "train_x = np.linspace(0, 3, 120)\r\n",
        "train_labels = 2 * train_x + 0.9 + np.random.randn(*train_x.shape) * 0.5\r\n",
        "\r\n",
        "plt.scatter(train_x,train_labels)"
      ],
      "execution_count": 11,
      "outputs": [
        {
          "output_type": "execute_result",
          "data": {
            "text/plain": [
              "<matplotlib.collections.PathCollection at 0x7f4cc4d54e90>"
            ]
          },
          "metadata": {
            "tags": []
          },
          "execution_count": 11
        },
        {
          "output_type": "display_data",
          "data": {
            "image/png": "[encoded data removed]",
            "text/plain": [
              "<Figure size 432x288 with 1 Axes>"
            ]
          },
          "metadata": {
            "tags": [],
            "needs_background": "light"
          }
        }
      ]
    },
    {
      "cell_type": "markdown",
      "metadata": {
        "id": "Ng4rZmGc6oxk"
      },
      "source": [
        "Линейная регрессия вычисляется как $f_{W,b}(x) = Wx+b$, где $W, b$ - параметры модели, которые необходимо найти. Функция ошибки на наборе данных $\\{x_i,y_u\\}_{i=1}^N$ может быть определена как среднеевадратичное отклонение\r\n",
        "$$\r\n",
        "\\mathcal{L}(W,b) = {1\\over N}\\sum_{i=1}^N (f_{W,b}(x_i)-y_i)^2\r\n",
        "$$\r\n",
        "\r\n",
        "Опишем модель и функцию ошибки:"
      ]
    },
    {
      "cell_type": "code",
      "metadata": {
        "id": "QxhI4GlB6aiH"
      },
      "source": [
        "input_dim = 1\r\n",
        "output_dim = 1\r\n",
        "learning_rate = 0.1\r\n",
        "\r\n",
        "# This is our weight matrix\r\n",
        "w = tf.Variable([[100.0]])\r\n",
        "# This is our bias vector\r\n",
        "b = tf.Variable(tf.zeros(shape=(output_dim,)))\r\n",
        "\r\n",
        "def f(x):\r\n",
        "  return tf.matmul(x,w) + b\r\n",
        "\r\n",
        "def compute_loss(labels, predictions):\r\n",
        "  return tf.reduce_mean(tf.square(labels - predictions))"
      ],
      "execution_count": 14,
      "outputs": []
    },
    {
      "cell_type": "markdown",
      "metadata": {
        "id": "JUxwj3367gD2"
      },
      "source": [
        "Обучать модель будем на сериях примеров - minibatches. Для обучения используем градиентный спуск, подстраивая парметры в соответствии с формулой:\r\n",
        "$$\r\n",
        "\\begin{array}{l}\r\n",
        "W^{(n+1)}=W^{(n)}-\\eta\\frac{\\partial\\mathcal{L}}{\\partial W} \\\\\r\n",
        "b^{(n+1)}=b^{(n)}-\\eta\\frac{\\partial\\mathcal{L}}{\\partial b} \\\\\r\n",
        "\\end{array}\r\n",
        "$$"
      ]
    },
    {
      "cell_type": "code",
      "metadata": {
        "id": "-991PErM7fJU"
      },
      "source": [
        "def train_on_batch(x, y):\r\n",
        "  with tf.GradientTape() as tape:\r\n",
        "    predictions = f(x)\r\n",
        "    loss = compute_loss(y, predictions)\r\n",
        "    # Note that `tape.gradient` works with a list as well (w, b).\r\n",
        "    dloss_dw, dloss_db = tape.gradient(loss, [w, b])\r\n",
        "  w.assign_sub(learning_rate * dloss_dw)\r\n",
        "  b.assign_sub(learning_rate * dloss_db)\r\n",
        "  return loss"
      ],
      "execution_count": 13,
      "outputs": []
    },
    {
      "cell_type": "markdown",
      "metadata": {
        "id": "idr2VEWb9rr0"
      },
      "source": [
        "Теперь приступаем к обучению: делаем несколько проходов по всему датасету (эпох), разбиваем его на minibatches, и вызываем функцию обучения:"
      ]
    },
    {
      "cell_type": "code",
      "metadata": {
        "id": "nOuu0qpx-wAp"
      },
      "source": [
        "# Shuffle the data.\r\n",
        "indices = np.random.permutation(len(train_x))\r\n",
        "features = tf.constant(train_x[indices],dtype=tf.float32)\r\n",
        "labels = tf.constant(train_labels[indices],dtype=tf.float32)"
      ],
      "execution_count": 12,
      "outputs": []
    },
    {
      "cell_type": "code",
      "metadata": {
        "colab": {
          "base_uri": "https://localhost:8080/"
        },
        "id": "3zdIf6c_85Ht",
        "outputId": "43b04684-8b90-4c65-d5ff-20ebac61c73c"
      },
      "source": [
        "batch_size = 4\r\n",
        "for epoch in range(10):\r\n",
        "  for i in range(0,len(features),batch_size):\r\n",
        "    loss = train_on_batch(tf.reshape(features[i:i+batch_size],(-1,1)),tf.reshape(labels[i:i+batch_size],(-1,1)))\r\n",
        "  print('Epoch %d: last batch loss = %.4f' % (epoch, float(loss)))"
      ],
      "execution_count": 15,
      "outputs": [
        {
          "output_type": "stream",
          "text": [
            "Epoch 0: last batch loss = 94.5247\n",
            "Epoch 1: last batch loss = 9.3428\n",
            "Epoch 2: last batch loss = 1.4166\n",
            "Epoch 3: last batch loss = 0.5224\n",
            "Epoch 4: last batch loss = 0.3807\n",
            "Epoch 5: last batch loss = 0.3495\n",
            "Epoch 6: last batch loss = 0.3413\n",
            "Epoch 7: last batch loss = 0.3390\n",
            "Epoch 8: last batch loss = 0.3384\n",
            "Epoch 9: last batch loss = 0.3382\n"
          ],
          "name": "stdout"
        }
      ]
    },
    {
      "cell_type": "code",
      "metadata": {
        "colab": {
          "base_uri": "https://localhost:8080/"
        },
        "id": "US6q0nCBD-LL",
        "outputId": "65a79620-a3eb-445b-aafb-60a60575ab0e"
      },
      "source": [
        "w,b"
      ],
      "execution_count": 16,
      "outputs": [
        {
          "output_type": "execute_result",
          "data": {
            "text/plain": [
              "(<tf.Variable 'Variable:0' shape=(1, 1) dtype=float32, numpy=array([[1.8616778]], dtype=float32)>,\n",
              " <tf.Variable 'Variable:0' shape=(1,) dtype=float32, numpy=array([1.0710956], dtype=float32)>)"
            ]
          },
          "metadata": {
            "tags": []
          },
          "execution_count": 16
        }
      ]
    },
    {
      "cell_type": "code",
      "metadata": {
        "colab": {
          "base_uri": "https://localhost:8080/",
          "height": 282
        },
        "id": "_e6xRMZFDnyI",
        "outputId": "d202b7fe-4383-4d82-b98e-a20f3180093e"
      },
      "source": [
        "plt.scatter(train_x,train_labels)\r\n",
        "x = np.array([min(train_x),max(train_x)])\r\n",
        "y = w.numpy()[0,0]*x+b.numpy()[0]\r\n",
        "plt.plot(x,y)"
      ],
      "execution_count": 17,
      "outputs": [
        {
          "output_type": "execute_result",
          "data": {
            "text/plain": [
              "[<matplotlib.lines.Line2D at 0x7f4cc487efd0>]"
            ]
          },
          "metadata": {
            "tags": []
          },
          "execution_count": 17
        },
        {
          "output_type": "display_data",
          "data": {
            "image/png": "[encoded data removed]",
            "text/plain": [
              "<Figure size 432x288 with 1 Axes>"
            ]
          },
          "metadata": {
            "tags": [],
            "needs_background": "light"
          }
        }
      ]
    },
    {
      "cell_type": "markdown",
      "metadata": {
        "id": "0giuwC9GHzi8"
      },
      "source": [
        "## Вычислительный граф\r\n",
        "\r\n",
        "Для проведения вычислений Tensorflow строит внутри себя вычислительный граф, который, в т.ч., может вычисляться на GPU. Однако в нашем случае, поскольку мы использовали пользовательские Python-функции, они не включались в вычислительный граф, и при вычислениях на GPU производилась бы передача данных между GPU и CPU и обратно.\r\n",
        "\r\n",
        "Для ускорения высчислений и построения единого статического графа, необходимо отметить все функции соответствующим декоратором:"
      ]
    },
    {
      "cell_type": "code",
      "metadata": {
        "id": "HK7HPLz3Hyrl"
      },
      "source": [
        "@tf.function\r\n",
        "def train_on_batch(x, y):\r\n",
        "  with tf.GradientTape() as tape:\r\n",
        "    predictions = f(x)\r\n",
        "    loss = compute_loss(y, predictions)\r\n",
        "    # Note that `tape.gradient` works with a list as well (w, b).\r\n",
        "    dloss_dw, dloss_db = tape.gradient(loss, [w, b])\r\n",
        "  w.assign_sub(learning_rate * dloss_dw)\r\n",
        "  b.assign_sub(learning_rate * dloss_db)\r\n",
        "  return loss"
      ],
      "execution_count": null,
      "outputs": []
    },
    {
      "cell_type": "markdown",
      "metadata": {
        "id": "J7HusxWkGjLX"
      },
      "source": [
        "## Dataset API\r\n",
        "\r\n",
        "Для работы с данными в Tensorflow присутствует удобное API, которым мы в данном случае можем воспользоваться:"
      ]
    },
    {
      "cell_type": "code",
      "metadata": {
        "colab": {
          "base_uri": "https://localhost:8080/"
        },
        "id": "oYro9Lbr8q0M",
        "outputId": "78c0a6de-71bd-4eef-8819-439495b28672"
      },
      "source": [
        "w.assign([[10.0]])\r\n",
        "b.assign([0.0])\r\n",
        "\r\n",
        "# Create a tf.data.Dataset object for easy batched iteration\r\n",
        "dataset = tf.data.Dataset.from_tensor_slices((train_x.astype(np.float32), train_labels.astype(np.float32)))\r\n",
        "dataset = dataset.shuffle(buffer_size=1024).batch(256)\r\n",
        "\r\n",
        "for epoch in range(10):\r\n",
        "  for step, (x, y) in enumerate(dataset):\r\n",
        "    loss = train_on_batch(tf.reshape(x,(-1,1)), tf.reshape(y,(-1,1)))\r\n",
        "  print('Epoch %d: last batch loss = %.4f' % (epoch, float(loss)))"
      ],
      "execution_count": 18,
      "outputs": [
        {
          "output_type": "stream",
          "text": [
            "Epoch 0: last batch loss = 173.4585\n",
            "Epoch 1: last batch loss = 13.8459\n",
            "Epoch 2: last batch loss = 4.5407\n",
            "Epoch 3: last batch loss = 3.7364\n",
            "Epoch 4: last batch loss = 3.4334\n",
            "Epoch 5: last batch loss = 3.1790\n",
            "Epoch 6: last batch loss = 2.9458\n",
            "Epoch 7: last batch loss = 2.7311\n",
            "Epoch 8: last batch loss = 2.5332\n",
            "Epoch 9: last batch loss = 2.3508\n"
          ],
          "name": "stdout"
        }
      ]
    },
    {
      "cell_type": "markdown",
      "metadata": {
        "id": "A10prCPowHl7"
      },
      "source": [
        "## Пример\n",
        "Рассмотрим пример двухмерной задачи классификации на 2 класса. Примером такой задачи может быть классификация опухоли на 2 типа - доброкачественная и злокачественная, в зависимости от её размера и возраста.\n",
        "\n",
        "Сгенерируем тестовые данные случайным образом:\n"
      ]
    },
    {
      "cell_type": "code",
      "metadata": {
        "scrolled": false,
        "trusted": true,
        "id": "j0OTPkGpwHl7"
      },
      "source": [
        "np.random.seed(0) # pick the seed for reproducability - change it to explore the effects of random variations\n",
        "\n",
        "n = 100\n",
        "X, Y = make_classification(n_samples = n, n_features=2,\n",
        "                           n_redundant=0, n_informative=2, flip_y=0.2,class_sep=1)\n",
        "X = X.astype(np.float32)\n",
        "Y = Y.astype(np.int32)\n",
        "\n",
        "split = [ 70*n//100, (15+70)*n//100 ]\n",
        "train_x, valid_x, test_x = np.split(X, split)\n",
        "train_labels, valid_labels, test_labels = np.split(Y, split)"
      ],
      "execution_count": 19,
      "outputs": []
    },
    {
      "cell_type": "code",
      "metadata": {
        "scrolled": false,
        "trusted": true,
        "id": "c-_BjSHPwHl8"
      },
      "source": [
        "def plot_dataset(features, labels, W=None, b=None):\n",
        "    # prepare the plot\n",
        "    fig, ax = plt.subplots(1, 1)\n",
        "    ax.set_xlabel('$x_i[0]$ -- (feature 1)')\n",
        "    ax.set_ylabel('$x_i[1]$ -- (feature 2)')\n",
        "    colors = ['r' if l else 'b' for l in labels]\n",
        "    ax.scatter(features[:, 0], features[:, 1], marker='o', c=colors, s=100, alpha = 0.5)\n",
        "    if W is not None:\n",
        "        min_x = min(features[:,0])\n",
        "        max_x = max(features[:,1])\n",
        "        min_y = min(features[:,1])*(1-.1)\n",
        "        max_y = max(features[:,1])*(1+.1)\n",
        "        cx = np.array([min_x,max_x],dtype=np.float32)\n",
        "        cy = (0.5-W[0]*cx-b)/W[1]\n",
        "        ax.plot(cx,cy,'g')\n",
        "        ax.set_ylim(min_y,max_y)\n",
        "    fig.show()"
      ],
      "execution_count": 20,
      "outputs": []
    },
    {
      "cell_type": "code",
      "metadata": {
        "scrolled": false,
        "trusted": true,
        "colab": {
          "base_uri": "https://localhost:8080/",
          "height": 283
        },
        "id": "tq0vFchQwHl8",
        "outputId": "9a5aa6a0-c92f-4d72-9e78-c0f615804bff"
      },
      "source": [
        "plot_dataset(train_x, train_labels)"
      ],
      "execution_count": 21,
      "outputs": [
        {
          "output_type": "display_data",
          "data": {
            "image/png": "[encoded data removed]",
            "text/plain": [
              "<Figure size 432x288 with 1 Axes>"
            ]
          },
          "metadata": {
            "tags": [],
            "needs_background": "light"
          }
        }
      ]
    },
    {
      "cell_type": "markdown",
      "metadata": {
        "id": "SjPlpf2-wHl8"
      },
      "source": [
        "## Обучение простейшего одноуровневого персептрона вручную\r\n",
        "\r\n",
        "Используем возможности tensorflow по вычислению градиента для обучения одноуровневого персептрона.\r\n",
        "\r\n",
        "Для начала, задаём архитектуру сети, в которой будет 2 входа и один выход. Соответственно, матрица весов $W$ будет иметь размерность $2\\times1$, а вектор сдвига $b$ -- $1$.\r\n",
        "\r\n",
        "Функция обучение будет такая же, как в прошлом примере, но функция ошибки будет представлять собой логистическую функцию ошибки. Для этого нам нужно получить на выходе сети значение **вероятности** класса 1, т.е. необходимо привести выход сети $z$ к диапазону [0,1] с помощью передаточной функции `sigmoid`: $p=\\sigma(z)$.\r\n",
        "Далее, если для примера с номером класса $y_i\\in\\{0,1\\}$ был получен выход сети $p_i$, то ошибка вычисляется как $\\mathcal{L_i}=-(y_i\\log p_i + (1-y_i)log(1-p_i))$. \r\n",
        "\r\n",
        "В Tensorflow оба эти этапа (применение сигмоиды и взятие логистической функции ошибки) делается одним вызовом `sigmoid_cross_entropy_with_logits`. Поскольку мы делаем обучение по минибатчам, то необходимо усреднить ошибку по всем компонентам минибатча с помощью `reduce_mean`. "
      ]
    },
    {
      "cell_type": "code",
      "metadata": {
        "trusted": true,
        "id": "kdDxWeCqwHl8"
      },
      "source": [
        "W = tf.Variable(tf.random.normal(shape=(2,1)))\n",
        "b = tf.Variable(tf.zeros(shape=(1,),dtype=tf.float32))\n",
        "\n",
        "learning_rate = 0.1\n",
        "\n",
        "@tf.function\n",
        "def train_on_batch(x, y):\n",
        "  with tf.GradientTape() as tape:\n",
        "    z = tf.matmul(x, W) + b\n",
        "    loss = tf.reduce_mean(tf.nn.sigmoid_cross_entropy_with_logits(labels=y,logits=z))\n",
        "    dloss_dw, dloss_db = tape.gradient(loss, [W, b])\n",
        "  W.assign_sub(learning_rate * dloss_dw)\n",
        "  b.assign_sub(learning_rate * dloss_db)\n",
        "  return loss"
      ],
      "execution_count": 22,
      "outputs": []
    },
    {
      "cell_type": "markdown",
      "metadata": {
        "id": "zAAgw0h6KzUd"
      },
      "source": [
        "Далее, разбиваем входные данные на минибатчи по 16 элементов, и по-очереди проводим обучение, подстраивая веса $W$ и $b$"
      ]
    },
    {
      "cell_type": "code",
      "metadata": {
        "trusted": true,
        "colab": {
          "base_uri": "https://localhost:8080/"
        },
        "id": "PfyqjVb2wHl8",
        "outputId": "308850b8-fe17-4cda-ac27-8bcda210f113"
      },
      "source": [
        "# Create a tf.data.Dataset object for easy batched iteration\n",
        "dataset = tf.data.Dataset.from_tensor_slices((train_x, train_labels.astype(np.float32)))\n",
        "dataset = dataset.batch(16)\n",
        "\n",
        "for epoch in range(15):\n",
        "  for step, (x, y) in enumerate(dataset):\n",
        "    loss = train_on_batch(tf.reshape(x,(-1,2)), tf.reshape(y,(-1,1)))\n",
        "  print('Epoch %d: last batch loss = %.4f' % (epoch, float(loss)))"
      ],
      "execution_count": 25,
      "outputs": [
        {
          "output_type": "stream",
          "text": [
            "Epoch 0: last batch loss = 0.5500\n",
            "Epoch 1: last batch loss = 0.5502\n",
            "Epoch 2: last batch loss = 0.5504\n",
            "Epoch 3: last batch loss = 0.5506\n",
            "Epoch 4: last batch loss = 0.5508\n",
            "Epoch 5: last batch loss = 0.5510\n",
            "Epoch 6: last batch loss = 0.5513\n",
            "Epoch 7: last batch loss = 0.5515\n",
            "Epoch 8: last batch loss = 0.5516\n",
            "Epoch 9: last batch loss = 0.5518\n",
            "Epoch 10: last batch loss = 0.5520\n",
            "Epoch 11: last batch loss = 0.5522\n",
            "Epoch 12: last batch loss = 0.5524\n",
            "Epoch 13: last batch loss = 0.5525\n",
            "Epoch 14: last batch loss = 0.5527\n"
          ],
          "name": "stdout"
        }
      ]
    },
    {
      "cell_type": "markdown",
      "metadata": {
        "id": "s4_Atvn5K4K9"
      },
      "source": [
        "Для демонстрации того, как сработало обучение, построим граничную прямую $W\\times x + b = 0.5$"
      ]
    },
    {
      "cell_type": "code",
      "metadata": {
        "trusted": true,
        "colab": {
          "base_uri": "https://localhost:8080/",
          "height": 283
        },
        "id": "PgRTHttLwHl9",
        "outputId": "e4407e1b-edf5-48e5-fdc2-da28120a3c6b"
      },
      "source": [
        "plot_dataset(train_x,train_labels,W.numpy(),b.numpy())"
      ],
      "execution_count": 26,
      "outputs": [
        {
          "output_type": "display_data",
          "data": {
            "image/png": "[encoded data removed]",
            "text/plain": [
              "<Figure size 432x288 with 1 Axes>"
            ]
          },
          "metadata": {
            "tags": [],
            "needs_background": "light"
          }
        }
      ]
    },
    {
      "cell_type": "code",
      "metadata": {
        "colab": {
          "base_uri": "https://localhost:8080/",
          "height": 282
        },
        "id": "oEQswfCGrmHw",
        "outputId": "3cf61882-60e1-4baa-8e51-0c31ea80875c"
      },
      "source": [
        "pred = tf.matmul(valid_x,W)+b\r\n",
        "fig,ax = plt.subplots(1,2)\r\n",
        "ax[0].scatter(valid_x[:,0],valid_x[:,1],c=pred[:,0]>0.5)\r\n",
        "ax[1].scatter(valid_x[:,0],valid_x[:,1],c=valid_labels)"
      ],
      "execution_count": 27,
      "outputs": [
        {
          "output_type": "execute_result",
          "data": {
            "text/plain": [
              "<matplotlib.collections.PathCollection at 0x7f4cc3440ad0>"
            ]
          },
          "metadata": {
            "tags": []
          },
          "execution_count": 27
        },
        {
          "output_type": "display_data",
          "data": {
            "image/png": "[encoded data removed]",
            "text/plain": [
              "<Figure size 432x288 with 2 Axes>"
            ]
          },
          "metadata": {
            "tags": [],
            "needs_background": "light"
          }
        }
      ]
    },
    {
      "cell_type": "code",
      "metadata": {
        "colab": {
          "base_uri": "https://localhost:8080/"
        },
        "id": "HUjdeIefsIsg",
        "outputId": "f267f505-8ba4-43ef-9ebe-df124c3c05a1"
      },
      "source": [
        "tf.reduce_mean(tf.cast(((pred[0]>0.5)==valid_labels),tf.float32))"
      ],
      "execution_count": 28,
      "outputs": [
        {
          "output_type": "execute_result",
          "data": {
            "text/plain": [
              "<tf.Tensor: shape=(), dtype=float32, numpy=0.4>"
            ]
          },
          "metadata": {
            "tags": []
          },
          "execution_count": 28
        }
      ]
    },
    {
      "cell_type": "markdown",
      "metadata": {
        "id": "_95qF9lY2kHp"
      },
      "source": [
        "## Используем оптимизаторы TensorFlow\r\n",
        "\r\n",
        "Tensorflow достаточно плотно интегрирован с библиотекой Keras, которая содержит в себе множество полезного. Например, мы можем использовать оптимизаторы, реализующие немного другие алгоритмы обучения, чем градиентный спуск.\r\n",
        "\r\n",
        "Также попробуем выводить точность на всех этапах обучения."
      ]
    },
    {
      "cell_type": "code",
      "metadata": {
        "colab": {
          "base_uri": "https://localhost:8080/"
        },
        "id": "ups7nlV22ofp",
        "outputId": "aa4dff06-82b9-4b2f-ca00-33970ea2b989"
      },
      "source": [
        "optimizer = tf.keras.optimizers.Adam(0.01)\r\n",
        "\r\n",
        "learning_rate = 0.05\r\n",
        "\r\n",
        "W = tf.Variable(tf.random.normal(shape=(2,1)))\r\n",
        "b = tf.Variable(tf.zeros(shape=(1,),dtype=tf.float32))\r\n",
        "\r\n",
        "@tf.function\r\n",
        "def train_on_batch(x, y):\r\n",
        "  vars = [W, b]\r\n",
        "  with tf.GradientTape() as tape:\r\n",
        "    z = tf.sigmoid(tf.matmul(x, W) + b)\r\n",
        "    loss = tf.reduce_mean(tf.keras.losses.binary_crossentropy(z,y))\r\n",
        "    correct_prediction = tf.equal(tf.round(y), tf.round(z))\r\n",
        "    acc = tf.reduce_mean(tf.cast(correct_prediction, tf.float32))\r\n",
        "    grads = tape.gradient(loss, vars)\r\n",
        "    optimizer.apply_gradients(zip(grads,vars))\r\n",
        "  return loss,acc\r\n",
        "\r\n",
        "for epoch in range(40):\r\n",
        "  for step, (x, y) in enumerate(dataset):\r\n",
        "    loss,acc = train_on_batch(tf.reshape(x,(-1,2)), tf.reshape(y,(-1,1)))\r\n",
        "  print('Epoch %d: last batch loss = %.4f, acc = %.4f' % (epoch, float(loss),acc))"
      ],
      "execution_count": 30,
      "outputs": [
        {
          "output_type": "stream",
          "text": [
            "Epoch 0: last batch loss = 6.1202, acc = 0.6667\n",
            "Epoch 1: last batch loss = 5.9872, acc = 0.6667\n",
            "Epoch 2: last batch loss = 5.8651, acc = 0.6667\n",
            "Epoch 3: last batch loss = 5.7551, acc = 0.8333\n",
            "Epoch 4: last batch loss = 5.6570, acc = 0.8333\n",
            "Epoch 5: last batch loss = 5.5700, acc = 0.8333\n",
            "Epoch 6: last batch loss = 5.4931, acc = 0.8333\n",
            "Epoch 7: last batch loss = 5.4255, acc = 0.8333\n",
            "Epoch 8: last batch loss = 5.3660, acc = 0.8333\n",
            "Epoch 9: last batch loss = 5.3140, acc = 0.8333\n",
            "Epoch 10: last batch loss = 5.2685, acc = 0.8333\n",
            "Epoch 11: last batch loss = 5.2289, acc = 0.8333\n",
            "Epoch 12: last batch loss = 5.1945, acc = 0.8333\n",
            "Epoch 13: last batch loss = 5.1649, acc = 0.8333\n",
            "Epoch 14: last batch loss = 5.1394, acc = 0.8333\n",
            "Epoch 15: last batch loss = 5.1177, acc = 0.8333\n",
            "Epoch 16: last batch loss = 5.0993, acc = 0.8333\n",
            "Epoch 17: last batch loss = 5.0840, acc = 0.8333\n",
            "Epoch 18: last batch loss = 5.0714, acc = 0.8333\n",
            "Epoch 19: last batch loss = 5.0612, acc = 0.8333\n",
            "Epoch 20: last batch loss = 5.0532, acc = 0.8333\n",
            "Epoch 21: last batch loss = 5.0472, acc = 0.6667\n",
            "Epoch 22: last batch loss = 5.0430, acc = 0.6667\n",
            "Epoch 23: last batch loss = 5.0404, acc = 0.6667\n",
            "Epoch 24: last batch loss = 5.0391, acc = 0.6667\n",
            "Epoch 25: last batch loss = 5.0391, acc = 0.6667\n",
            "Epoch 26: last batch loss = 5.0403, acc = 0.8333\n",
            "Epoch 27: last batch loss = 5.0424, acc = 0.8333\n",
            "Epoch 28: last batch loss = 5.0454, acc = 0.8333\n",
            "Epoch 29: last batch loss = 5.0491, acc = 0.8333\n",
            "Epoch 30: last batch loss = 5.0535, acc = 0.8333\n",
            "Epoch 31: last batch loss = 5.0584, acc = 0.8333\n",
            "Epoch 32: last batch loss = 5.0638, acc = 0.8333\n",
            "Epoch 33: last batch loss = 5.0696, acc = 0.8333\n",
            "Epoch 34: last batch loss = 5.0756, acc = 0.8333\n",
            "Epoch 35: last batch loss = 5.0818, acc = 0.8333\n",
            "Epoch 36: last batch loss = 5.0882, acc = 0.8333\n",
            "Epoch 37: last batch loss = 5.0946, acc = 0.8333\n",
            "Epoch 38: last batch loss = 5.1010, acc = 0.8333\n",
            "Epoch 39: last batch loss = 5.1073, acc = 0.8333\n"
          ],
          "name": "stdout"
        }
      ]
    },
    {
      "cell_type": "markdown",
      "metadata": {
        "id": "dvAiaj_JndyP"
      },
      "source": [
        "**Задание 1**: Постройте графики ошибок на обучающей и тестовой выборке в процессе обучения\r\n",
        "\r\n",
        "**Задание 2**: Попробуйте решить задачу классификации на датасете MNIST с помощью этого кода. Подсказка: используйте `softmax_crossentropy_with_logits` или `sparse_softmax_cross_entropy_with_logits` в качестве функции ошибки. При этом в первом случае на выход сети необходимо подавать целевые значения в формате *one hot encoding*, а во втором - в виде целочисленного номера класса."
      ]
    },
    {
      "cell_type": "markdown",
      "metadata": {
        "id": "995iCprDrgYQ"
      },
      "source": [
        "## Keras\r\n",
        "### Deep Learning for Humans\r\n",
        "\r\n",
        "* Раньше работал поверх Tensorflow, CNTK или Theano, сейчас включен в состав Tensorflow\r\n",
        "* Оперирует нейросетями на уровне слоёв\r\n",
        "* Включает упрощённый \"обучатель\", средства работы с типовыми данными (картинками, ...)\r\n",
        "* Много готовых примеров\r\n",
        "* Functional API vs. Sequential API\r\n",
        "\r\n",
        "Keras даёт более высокоуровневое API для реализации нейросетей, позволяя определять нейросети как комбинации слоёв и оперировать понятиями \"модель\", \"слой\", \"алгоритм обучения\".\r\n",
        "\r\n",
        "Книжка от создателя Keras: [Deep Learning with Python](https://www.manning.com/books/deep-learning-with-python)"
      ]
    },
    {
      "cell_type": "code",
      "metadata": {
        "colab": {
          "base_uri": "https://localhost:8080/"
        },
        "id": "QJWplVfy34Eo",
        "outputId": "9be976f2-4f9a-495c-bddc-a7f9ec30989a"
      },
      "source": [
        "inputs = tf.keras.Input(shape=(2,))\r\n",
        "z = tf.keras.layers.Dense(1,kernel_initializer='glorot_uniform',activation='sigmoid')(inputs)\r\n",
        "model = tf.keras.models.Model(inputs,z)\r\n",
        "\r\n",
        "train_x_norm = train_x-np.min(train_x) / (np.max(train_x)-np.min(train_x))\r\n",
        "\r\n",
        "model.compile(tf.keras.optimizers.Adam(0.1),'binary_crossentropy',['accuracy'])\r\n",
        "model.summary()\r\n",
        "h = model.fit(train_x_norm,train_labels,batch_size=8,epochs=15)"
      ],
      "execution_count": 32,
      "outputs": [
        {
          "output_type": "stream",
          "text": [
            "Model: \"model_1\"\n",
            "_________________________________________________________________\n",
            "Layer (type)                 Output Shape              Param #   \n",
            "=================================================================\n",
            "input_2 (InputLayer)         [(None, 2)]               0         \n",
            "_________________________________________________________________\n",
            "dense_1 (Dense)              (None, 1)                 3         \n",
            "=================================================================\n",
            "Total params: 3\n",
            "Trainable params: 3\n",
            "Non-trainable params: 0\n",
            "_________________________________________________________________\n",
            "Epoch 1/15\n",
            "9/9 [==============================] - 0s 1ms/step - loss: 1.1443 - accuracy: 0.3283\n",
            "Epoch 2/15\n",
            "9/9 [==============================] - 0s 2ms/step - loss: 0.6759 - accuracy: 0.5823\n",
            "Epoch 3/15\n",
            "9/9 [==============================] - 0s 1ms/step - loss: 0.4717 - accuracy: 0.7888\n",
            "Epoch 4/15\n",
            "9/9 [==============================] - 0s 1ms/step - loss: 0.3932 - accuracy: 0.9044\n",
            "Epoch 5/15\n",
            "9/9 [==============================] - 0s 1ms/step - loss: 0.4254 - accuracy: 0.8513\n",
            "Epoch 6/15\n",
            "9/9 [==============================] - 0s 1ms/step - loss: 0.3866 - accuracy: 0.8534\n",
            "Epoch 7/15\n",
            "9/9 [==============================] - 0s 1ms/step - loss: 0.4578 - accuracy: 0.8344\n",
            "Epoch 8/15\n",
            "9/9 [==============================] - 0s 1ms/step - loss: 0.4432 - accuracy: 0.8192\n",
            "Epoch 9/15\n",
            "9/9 [==============================] - 0s 1ms/step - loss: 0.4172 - accuracy: 0.8408\n",
            "Epoch 10/15\n",
            "9/9 [==============================] - 0s 1ms/step - loss: 0.3778 - accuracy: 0.8819\n",
            "Epoch 11/15\n",
            "9/9 [==============================] - 0s 1ms/step - loss: 0.4008 - accuracy: 0.8800\n",
            "Epoch 12/15\n",
            "9/9 [==============================] - 0s 3ms/step - loss: 0.3769 - accuracy: 0.9019\n",
            "Epoch 13/15\n",
            "9/9 [==============================] - 0s 1ms/step - loss: 0.3995 - accuracy: 0.8336\n",
            "Epoch 14/15\n",
            "9/9 [==============================] - 0s 1ms/step - loss: 0.3816 - accuracy: 0.8719\n",
            "Epoch 15/15\n",
            "9/9 [==============================] - 0s 1ms/step - loss: 0.4211 - accuracy: 0.8244\n"
          ],
          "name": "stdout"
        }
      ]
    },
    {
      "cell_type": "code",
      "metadata": {
        "colab": {
          "base_uri": "https://localhost:8080/",
          "height": 282
        },
        "id": "K2Kf60IrZcqs",
        "outputId": "b60b868d-3562-4715-f5d5-1f9764e45f09"
      },
      "source": [
        "plt.plot(h.history['accuracy'])"
      ],
      "execution_count": 37,
      "outputs": [
        {
          "output_type": "execute_result",
          "data": {
            "text/plain": [
              "[<matplotlib.lines.Line2D at 0x7f4cbdcce910>]"
            ]
          },
          "metadata": {
            "tags": []
          },
          "execution_count": 37
        },
        {
          "output_type": "display_data",
          "data": {
            "image/png": "[encoded data removed]",
            "text/plain": [
              "<Figure size 432x288 with 1 Axes>"
            ]
          },
          "metadata": {
            "tags": [],
            "needs_background": "light"
          }
        }
      ]
    },
    {
      "cell_type": "markdown",
      "metadata": {
        "id": "iJruFXmb_dur"
      },
      "source": [
        "Выше мы использовали **функциональный** способ задания модели, когда мы сначала описываем входную переменную, затем - происходящие с ней преобразования, и потом определяем объект `Model`.\r\n",
        "\r\n",
        "Мы можем также задавать модель как последовательности слоёв с помощью `Sequential`:"
      ]
    },
    {
      "cell_type": "code",
      "metadata": {
        "colab": {
          "base_uri": "https://localhost:8080/"
        },
        "id": "iWc_kSr8_YXt",
        "outputId": "345dbe65-629d-468f-ed75-1d412c966340"
      },
      "source": [
        "model = tf.keras.models.Sequential()\r\n",
        "model.add(tf.keras.layers.Dense(5,activation='sigmoid',input_shape=(2,)))\r\n",
        "model.add(tf.keras.layers.Dense(1,activation='sigmoid'))\r\n",
        "\r\n",
        "test_x_norm = test_x-np.min(train_x) / (np.max(train_x)-np.min(train_x))\r\n",
        "# это не ошибка, мы нормируем тестовые данные так же, как нормировали обучающие!\r\n",
        "# (поэтому min и max считаем для обучающих данных)\r\n",
        "\r\n",
        "model.compile(tf.keras.optimizers.Adam(0.1),'binary_crossentropy',['accuracy'])\r\n",
        "model.summary()\r\n",
        "model.fit(train_x_norm,train_labels,validation_data=(test_x_norm,test_labels),batch_size=8,epochs=15)"
      ],
      "execution_count": 45,
      "outputs": [
        {
          "output_type": "stream",
          "text": [
            "Model: \"sequential_6\"\n",
            "_________________________________________________________________\n",
            "Layer (type)                 Output Shape              Param #   \n",
            "=================================================================\n",
            "dense_14 (Dense)             (None, 5)                 15        \n",
            "_________________________________________________________________\n",
            "dense_15 (Dense)             (None, 1)                 6         \n",
            "=================================================================\n",
            "Total params: 21\n",
            "Trainable params: 21\n",
            "Non-trainable params: 0\n",
            "_________________________________________________________________\n",
            "Epoch 1/15\n",
            "9/9 [==============================] - 1s 19ms/step - loss: 0.6962 - accuracy: 0.5596 - val_loss: 0.5533 - val_accuracy: 0.7333\n",
            "Epoch 2/15\n",
            "9/9 [==============================] - 0s 5ms/step - loss: 0.5057 - accuracy: 0.8035 - val_loss: 0.4924 - val_accuracy: 0.8000\n",
            "Epoch 3/15\n",
            "9/9 [==============================] - 0s 5ms/step - loss: 0.4173 - accuracy: 0.8726 - val_loss: 0.5273 - val_accuracy: 0.6667\n",
            "Epoch 4/15\n",
            "9/9 [==============================] - 0s 4ms/step - loss: 0.4405 - accuracy: 0.8145 - val_loss: 0.5641 - val_accuracy: 0.6667\n",
            "Epoch 5/15\n",
            "9/9 [==============================] - 0s 5ms/step - loss: 0.3523 - accuracy: 0.9039 - val_loss: 0.5498 - val_accuracy: 0.7333\n",
            "Epoch 6/15\n",
            "9/9 [==============================] - 0s 5ms/step - loss: 0.3239 - accuracy: 0.9012 - val_loss: 0.5666 - val_accuracy: 0.6667\n",
            "Epoch 7/15\n",
            "9/9 [==============================] - 0s 5ms/step - loss: 0.4043 - accuracy: 0.8568 - val_loss: 0.5883 - val_accuracy: 0.6667\n",
            "Epoch 8/15\n",
            "9/9 [==============================] - 0s 5ms/step - loss: 0.3351 - accuracy: 0.8903 - val_loss: 0.5906 - val_accuracy: 0.6667\n",
            "Epoch 9/15\n",
            "9/9 [==============================] - 0s 5ms/step - loss: 0.3624 - accuracy: 0.8761 - val_loss: 0.6198 - val_accuracy: 0.6667\n",
            "Epoch 10/15\n",
            "9/9 [==============================] - 0s 4ms/step - loss: 0.4015 - accuracy: 0.8622 - val_loss: 0.6087 - val_accuracy: 0.6667\n",
            "Epoch 11/15\n",
            "9/9 [==============================] - 0s 5ms/step - loss: 0.3387 - accuracy: 0.8846 - val_loss: 0.6604 - val_accuracy: 0.6667\n",
            "Epoch 12/15\n",
            "9/9 [==============================] - 0s 5ms/step - loss: 0.3579 - accuracy: 0.8694 - val_loss: 0.6177 - val_accuracy: 0.7333\n",
            "Epoch 13/15\n",
            "9/9 [==============================] - 0s 5ms/step - loss: 0.3304 - accuracy: 0.8830 - val_loss: 0.6274 - val_accuracy: 0.6667\n",
            "Epoch 14/15\n",
            "9/9 [==============================] - 0s 4ms/step - loss: 0.3193 - accuracy: 0.8807 - val_loss: 0.6472 - val_accuracy: 0.6667\n",
            "Epoch 15/15\n",
            "9/9 [==============================] - 0s 4ms/step - loss: 0.3552 - accuracy: 0.8546 - val_loss: 0.6596 - val_accuracy: 0.6667\n"
          ],
          "name": "stdout"
        },
        {
          "output_type": "execute_result",
          "data": {
            "text/plain": [
              "<tensorflow.python.keras.callbacks.History at 0x7f4cbdbf7890>"
            ]
          },
          "metadata": {
            "tags": []
          },
          "execution_count": 45
        }
      ]
    },
    {
      "cell_type": "markdown",
      "metadata": {
        "id": "BmHNhUU8bqEX"
      },
      "source": [
        "## Функции ошибки при классификации\r\n",
        "\r\n",
        "При использовании Keras для классификации важно правильно указать функцию ошибки и передаточную функцию на последнем слое. Основные правила:\r\n",
        "* Если у сети один выход, то передаточная функция - сигмоида, если несколько - softmax\r\n",
        "* Если на ожидаемый выход подается в виде one-hot-encoding, то функция ошибки - cross entropy loss (categorical cross-entropy), если номер класса - sparse categorical cross-entropy, для бинарной классификации с одним выходом - binary cross-entropy (она же log loss)\r\n",
        "\r\n",
        "В целом бинарную классификацию можно рассматривать как частный случай мультиклассовой, подавая на выход one hot encoded вектор.\r\n",
        "\r\n",
        "| Классификация | Формат входных данных | Передат.функция | Функция ошибки |\r\n",
        "|---------------|-----------------------|-----------------|----------|\r\n",
        "| Бинарная      | Вероятность 1-го класса | sigmoid | binary crossentropy |\r\n",
        "| Бинарная      | One-hot encoding (2 выхода) | softmax | categorical crossentropy |\r\n",
        "| Мультикласс |  One-hot encoding | softmax | categorical crossentropy |\r\n",
        "| Мультикласс | Номер класса | softmax | sparse categorical crossentropy"
      ]
    },
    {
      "cell_type": "markdown",
      "metadata": {
        "id": "yX6hqiafwHl9"
      },
      "source": [
        "## Выводы\n",
        "\n",
        "* Tensorflow позволяет более гибко определять структуру графа вычислений, описывать свои функции и конфигурации.\n",
        "* Есть более удобные средства для работы с данными (`td.Data`), со слоями (`tf.layers`)\n",
        "* Для массового использования нейросетей Google рекомендует **Keras**, который позволяет собирать нейросети как конструктор\n",
        "* При этом возможно реализовать свой слой для Keras, и потом использовать его в своих моделях.\n",
        "* Для типовых задач имеет смысл использовать Keras\n",
        "* Также стоит посмотреть на PyTorch, это \"восходящая звезда\"\n",
        "\n",
        "Хороший Notebook про Keras и Tensorflow 2.0 от создателя Keras - [тут](https://t.co/k694J95PI8)"
      ]
    },
    {
      "cell_type": "markdown",
      "metadata": {
        "id": "gZ-kWx84bMDH"
      },
      "source": [
        "**Задание 3**: \r\n",
        "Используйте Keras для обучения классификатора на сети MNIST. При этом:\r\n",
        "* Обратите внимание, что в keras заложены типовые датасеты, включая MNIST. Для обращения к нему достаточно пары строчек кода (см, например, [тут](https://www.tensorflow.org/api_docs/python/tf/keras/datasets/mnist))\r\n",
        "* Попробуйте несколько конфигураций сети с несколькими полносвязными слоями, передаточными функциями, и разным количеством нейронов\r\n",
        "\r\n",
        "Какой точности вам удалось достичь?\r\n"
      ]
    },
    {
      "cell_type": "code",
      "metadata": {
        "trusted": true,
        "id": "MG64NKzawHl-"
      },
      "source": [
        ""
      ],
      "execution_count": null,
      "outputs": []
    }
  ]
}