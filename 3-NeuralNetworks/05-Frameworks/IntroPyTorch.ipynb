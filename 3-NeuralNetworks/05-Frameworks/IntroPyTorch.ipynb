{
  "nbformat": 4,
  "nbformat_minor": 0,
  "metadata": {
    "celltoolbar": "Slideshow",
    "kernelspec": {
      "name": "python3",
      "display_name": "Python 3",
      "language": "python"
    },
    "language_info": {
      "mimetype": "text/x-python",
      "nbconvert_exporter": "python",
      "name": "python",
      "file_extension": ".py",
      "version": "3.7.4-final",
      "pygments_lexer": "ipython3",
      "codemirror_mode": {
        "version": 3,
        "name": "ipython"
      }
    },
    "livereveal": {
      "start_slideshow_at": "selected"
    },
    "colab": {
      "name": "IntroPyTorch.ipynb",
      "provenance": [],
      "collapsed_sections": []
    },
    "accelerator": "GPU"
  },
  "cells": [
    {
      "cell_type": "markdown",
      "metadata": {
        "id": "En2vX4FuwHlu"
      },
      "source": [
        "# Введение в нейронные сети\n",
        "\n",
        "## Эпизод 2b: Многослойный персептрон на PyTorch\n",
        "\n",
        "Дмитрий Сошников | dmitri@soshnikov.com\n",
        "\n",
        "http://github.com/shwars/NeuroWorkshop\n",
        "-> Notebooks -> IntroPyTorch.ipynb"
      ]
    },
    {
      "cell_type": "markdown",
      "metadata": {
        "id": "fVjlmWBwwHl2"
      },
      "source": [
        "## Нейросетевые фреймворки\n",
        "\n",
        "Мы видели, что для обучения нейросетей нужно:\n",
        "* Быстро умножать матрицы (тензоры)\n",
        "* Считать производные для вычисления градиента для метода обратного распространения ошибки\n",
        "\n",
        "Что позволяют делать нейросетевые фреймворки:\n",
        "* Оперировать с тензорами, как на CPU, так и на GPU\n",
        "* Автоматически вычислять производные (они вручную прописаны для всех элементарных функций)\n",
        "\n",
        "Опционально:\n",
        "* Конструктор для нейросетей (описание сети как набора слоёв)\n",
        "* Простые функции для обучения (`fit`, как в Scikit Learn)\n",
        "* Набор алгоритмов оптимизации\n",
        "* Набор абстракций для работы с данными"
      ]
    },
    {
      "cell_type": "markdown",
      "metadata": {
        "id": "8cACQoFMwHl3"
      },
      "source": [
        "## Основные фреймворки\n",
        "\n",
        "* Tensorflow 1.0 - первый, получивший широкое распространение (Google). Позволял определять статический computation graph, и затем в явном виде выполнять вычисления\n",
        "* PyTorch - Facebook\n",
        "* Keras - надстройка над Tensorflow/PyTorch для унификации (Francois Chollet)\n",
        "* Tensorflow 2.0 + Keras - динамический вычислительный граф, код получается похожим на обычные вычисления в numpy\n",
        "\n",
        "Мы рассмотрим PyTorch. Для начала рекомендуется установить PyTorch [по инструкции на сайте](https://pytorch.org/get-started/locally/). Либо можно выполнять код в [Google Colab](https://colab.research.google.com/), в котором PyTorch уже установлен."
      ]
    },
    {
      "cell_type": "code",
      "metadata": {
        "tags": [],
        "colab": {
          "base_uri": "https://localhost:8080/",
          "height": 35
        },
        "id": "xwqVx9-bwHl3",
        "outputId": "38564a63-0567-4406-ee1a-1d3618f27351"
      },
      "source": [
        "import torch\n",
        "torch.__version__"
      ],
      "execution_count": 168,
      "outputs": [
        {
          "output_type": "execute_result",
          "data": {
            "application/vnd.google.colaboratory.intrinsic+json": {
              "type": "string"
            },
            "text/plain": [
              "'1.8.0+cu101'"
            ]
          },
          "metadata": {
            "tags": []
          },
          "execution_count": 168
        }
      ]
    },
    {
      "cell_type": "markdown",
      "metadata": {
        "id": "6tp2xGV7wHl4"
      },
      "source": [
        "## Основные понятия в PyTorch\n",
        "\n",
        "**Тензор** - это многомерный массив произвольной размерности. Удобно использовать при обучении нейросетей, например:\n",
        "* 400x400 - чёрно-белая картинка\n",
        "* 400x400x3 - цветная картинка\n",
        "* 16x400x400x3 - minibatch из 16 картинок, используемый для одного шага обучения\n",
        "* 25x400x400x3 - секунда видео\n",
        "* 8x25x400x400x3 - minibatch из 8 1-секундных видео"
      ]
    },
    {
      "cell_type": "markdown",
      "metadata": {
        "id": "qG2bsaR7wHl4"
      },
      "source": [
        "### Простые тензоры"
      ]
    },
    {
      "cell_type": "code",
      "metadata": {
        "trusted": true,
        "colab": {
          "base_uri": "https://localhost:8080/"
        },
        "id": "ybpnk08HwHl4",
        "outputId": "54e2c89b-b373-4389-b285-49b0510be931"
      },
      "source": [
        "a = torch.tensor([[1,2],[3,4]])\n",
        "print(a)\n",
        "a = torch.randn(size=(10,3))\n",
        "print(a)"
      ],
      "execution_count": 169,
      "outputs": [
        {
          "output_type": "stream",
          "text": [
            "tensor([[1, 2],\n",
            "        [3, 4]])\n",
            "tensor([[ 0.1288, -0.8088, -0.2092],\n",
            "        [ 0.0789, -1.4706, -0.8880],\n",
            "        [-0.0601,  0.6659, -3.2120],\n",
            "        [ 0.8023, -0.4045, -1.0164],\n",
            "        [-1.5578, -1.3014, -0.8372],\n",
            "        [ 1.3626, -1.0825, -2.7018],\n",
            "        [ 0.2258, -0.7675, -0.4102],\n",
            "        [-1.9663,  0.0386, -2.6183],\n",
            "        [ 0.7666, -1.3057, -0.4486],\n",
            "        [-0.9006,  0.7092,  0.8018]])\n"
          ],
          "name": "stdout"
        }
      ]
    },
    {
      "cell_type": "markdown",
      "metadata": {
        "id": "AXFMsV3r09Ux"
      },
      "source": [
        "С тензорами можно производить обычные вычисления, которые производятся поэлементно (как в numpy). При этом тензоры автоматически дополняются до нужной размерности. Можно извлечь numpy-массив из тензора при помощи `.numpy()`:"
      ]
    },
    {
      "cell_type": "code",
      "metadata": {
        "colab": {
          "base_uri": "https://localhost:8080/"
        },
        "id": "e5Nu5Xgj1DnQ",
        "outputId": "c1fbcd86-dde6-40b6-8edf-7a37f9d60901"
      },
      "source": [
        "print(a-a[0])\n",
        "print(torch.exp(a)[0].numpy())"
      ],
      "execution_count": 170,
      "outputs": [
        {
          "output_type": "stream",
          "text": [
            "tensor([[ 0.0000,  0.0000,  0.0000],\n",
            "        [-0.0499, -0.6618, -0.6788],\n",
            "        [-0.1889,  1.4747, -3.0028],\n",
            "        [ 0.6734,  0.4044, -0.8072],\n",
            "        [-1.6867, -0.4926, -0.6280],\n",
            "        [ 1.2338, -0.2737, -2.4927],\n",
            "        [ 0.0970,  0.0413, -0.2010],\n",
            "        [-2.0951,  0.8475, -2.4091],\n",
            "        [ 0.6377, -0.4969, -0.2395],\n",
            "        [-1.0295,  1.5180,  1.0110]])\n",
            "[1.1375165  0.44538715 0.81125516]\n"
          ],
          "name": "stdout"
        }
      ]
    },
    {
      "cell_type": "markdown",
      "metadata": {
        "id": "uQ5zN6cVyrG7"
      },
      "source": [
        "## In-place и out-of-place операции\n",
        "\n",
        "Обычно операции с тензорами возвращают новые тензоры. Однако для большинства операций сущетвуют аналогичные варианты, которые модифицируют исходный тензор:"
      ]
    },
    {
      "cell_type": "code",
      "metadata": {
        "colab": {
          "base_uri": "https://localhost:8080/"
        },
        "id": "Mjkbcw3-ACKS",
        "outputId": "ca021008-9ab6-4b09-c5a5-bbe854cd1493"
      },
      "source": [
        "u = torch.tensor(5)\n",
        "print(\"Result when adding out-of-place:\",u.add(torch.tensor(3)))\n",
        "u.add_(torch.tensor(3))\n",
        "print(\"Result after adding in-place:\", u)"
      ],
      "execution_count": 171,
      "outputs": [
        {
          "output_type": "stream",
          "text": [
            "Result when adding out-of-place: tensor(8)\n",
            "Result after adding in-place: tensor(8)\n"
          ],
          "name": "stdout"
        }
      ]
    },
    {
      "cell_type": "markdown",
      "metadata": {
        "id": "DLPUcVsXACKT"
      },
      "source": [
        "Например, вот там можно \"наивно\" посчитать сумму строк тензора `a`:"
      ]
    },
    {
      "cell_type": "code",
      "metadata": {
        "colab": {
          "base_uri": "https://localhost:8080/"
        },
        "id": "7pu0UZ-_yqfB",
        "outputId": "bd2e8c6a-39e1-4f29-990b-9591e866936c"
      },
      "source": [
        "s = torch.zeros_like(a[0])\n",
        "for i in a:\n",
        "  s.add_(i)\n",
        "\n",
        "print(s)"
      ],
      "execution_count": 172,
      "outputs": [
        {
          "output_type": "stream",
          "text": [
            "tensor([ -1.1197,  -5.7273, -11.5398])\n"
          ],
          "name": "stdout"
        }
      ]
    },
    {
      "cell_type": "markdown",
      "metadata": {
        "id": "rIh1EHcezlNo"
      },
      "source": [
        "Умный способ:"
      ]
    },
    {
      "cell_type": "code",
      "metadata": {
        "colab": {
          "base_uri": "https://localhost:8080/"
        },
        "id": "aQIdWZ1kzn6P",
        "outputId": "89000bb4-f45e-493b-a7b0-39fa4e7d92c1"
      },
      "source": [
        "torch.sum(a,axis=0)"
      ],
      "execution_count": 176,
      "outputs": [
        {
          "output_type": "execute_result",
          "data": {
            "text/plain": [
              "tensor([ -1.1197,  -5.7273, -11.5398])"
            ]
          },
          "metadata": {
            "tags": []
          },
          "execution_count": 176
        }
      ]
    },
    {
      "cell_type": "markdown",
      "metadata": {
        "id": "5UzUmEZhACKT"
      },
      "source": [
        "Подробнее про тензоры в PyTorch смотрите [в официальном руководстве](https://pytorch.org/tutorials/beginner/basics/tensorqs_tutorial.html)"
      ]
    },
    {
      "cell_type": "markdown",
      "metadata": {
        "id": "U-auwezDwHl6"
      },
      "source": [
        "## Вычисляем производные\n",
        "\n",
        "Для обратного распространения ошибки, нам нужно уметь вычислять градиенты. Мы можем пометить любой тензор в PyTorch атрибутом `requires_grad`, и впоследствии автоматически будут вычисляться все градиенты при операциях с этим тензором. Для вычисления производной необходимо вызвать метод `backward()`:\n"
      ]
    },
    {
      "cell_type": "code",
      "metadata": {
        "trusted": true,
        "colab": {
          "base_uri": "https://localhost:8080/"
        },
        "id": "m8vFOXr7wHl6",
        "outputId": "7054c2b1-0b61-4938-937d-813f75f0b195"
      },
      "source": [
        "a = torch.randn(size=(2, 2), requires_grad=True)\n",
        "b = torch.randn(size=(2, 2))\n",
        "\n",
        "c = torch.mean(torch.sqrt(torch.square(a) + torch.square(b)))  # Do some math using `a`\n",
        "c.backward() # call backward() to compute all gradients\n",
        "# What's the gradient of `c` with respect to `a`?\n",
        "print(a.grad)"
      ],
      "execution_count": 179,
      "outputs": [
        {
          "output_type": "stream",
          "text": [
            "tensor([[0.0227, 0.1661],\n",
            "        [0.1980, 0.2253]])\n"
          ],
          "name": "stdout"
        }
      ]
    },
    {
      "cell_type": "markdown",
      "metadata": {
        "id": "nPj3rtrtACKU"
      },
      "source": [
        "На самом деле, PyTorch может таким образом вычислять \"накапливаемые\" градиенты. Если при вызове `backward` указать `retain_graph=True`, то граф вычислений будет сохраняться, и градиенты - накапливаться. Чтобы начать их вычислять заново, нужно в явном виде обнулить поле `grad`:  "
      ]
    },
    {
      "cell_type": "code",
      "metadata": {
        "colab": {
          "base_uri": "https://localhost:8080/"
        },
        "id": "z_VIw8MoACKU",
        "outputId": "36a28b11-6919-47ab-c3f9-c7f1d8500423"
      },
      "source": [
        "c = torch.mean(torch.sqrt(torch.square(a) + torch.square(b)))\n",
        "c.backward(retain_graph=True)\n",
        "c.backward(retain_graph=True)\n",
        "print(a.grad)\n",
        "a.grad.zero_()\n",
        "c.backward()\n",
        "print(a.grad)"
      ],
      "execution_count": 180,
      "outputs": [
        {
          "output_type": "stream",
          "text": [
            "tensor([[0.0681, 0.4983],\n",
            "        [0.5939, 0.6758]])\n",
            "tensor([[0.0227, 0.1661],\n",
            "        [0.1980, 0.2253]])\n"
          ],
          "name": "stdout"
        }
      ]
    },
    {
      "cell_type": "markdown",
      "metadata": {
        "id": "HM9sUkVgCiG9"
      },
      "source": [
        "Для вычисления градиентов PyTorch создаёт и поддерживает **граф вычислений**. Для каждого тензора, который вычисляется с использованием тензоров с установленным флагом `requires_grad`, устанавливается специальная функция `grad_fn`, представляющая собой функцию для вычисления производной по правилу дифференциирования сложной функции:"
      ]
    },
    {
      "cell_type": "code",
      "metadata": {
        "colab": {
          "base_uri": "https://localhost:8080/"
        },
        "id": "PcxHb-7jC7Vv",
        "outputId": "3b3fa138-6d09-4636-8a71-f4a4051c7827"
      },
      "source": [
        "print(c)"
      ],
      "execution_count": 181,
      "outputs": [
        {
          "output_type": "stream",
          "text": [
            "tensor(1.0358, grad_fn=<MeanBackward0>)\n"
          ],
          "name": "stdout"
        }
      ]
    },
    {
      "cell_type": "markdown",
      "metadata": {
        "id": "rvLfNiblACKV"
      },
      "source": [
        "На самом деле, PyTorch может вычислять градиенты только для скалярных функций. Если речь идет о вычислении производной тензора по тензору, то PyTorch позволяет нам вычислять произведение якобиана на вектор.\n",
        "\n",
        "Например, пусть есть векторная функция $\\vec{y}=f(\\vec{x})$, где\n",
        "$\\vec{x}=\\langle x_1,\\dots,x_n\\rangle$ и\n",
        "$\\vec{y}=\\langle y_1,\\dots,y_m\\rangle$, тогда градиент $\\vec{y}$ по $\\vec{x}$ задаётся **якобианом**:\n",
        "\n",
        "$$\n",
        "\\begin{align}J=\\left(\\begin{array}{ccc}\n",
        "   \\frac{\\partial y_{1}}{\\partial x_{1}} & \\cdots & \\frac{\\partial y_{1}}{\\partial x_{n}}\\\\\n",
        "   \\vdots & \\ddots & \\vdots\\\\\n",
        "   \\frac{\\partial y_{m}}{\\partial x_{1}} & \\cdots & \\frac{\\partial y_{m}}{\\partial x_{n}}\n",
        "\\end{array}\\right)\\end{align}\n",
        "$$\n",
        "\n",
        "Вместо вычисления якобиана, PyTorch вычисляет произведение $v^T\\cdot J$ на некоторый вектор\n",
        "$v=(v_1 \\dots v_m)$. Для этого необходимо вызвать ``backward``, передав `v` в качестве аргумента. Размер `v` должен совпадать с размером исходного тензора, по которому мы вычисляем производную.\n"
      ]
    },
    {
      "cell_type": "code",
      "metadata": {
        "colab": {
          "base_uri": "https://localhost:8080/"
        },
        "id": "VUNYiQCOACKV",
        "outputId": "e3127c21-fce6-420d-f347-ec40cc827e7e"
      },
      "source": [
        "c = torch.sqrt(torch.square(a) + torch.square(b))\n",
        "c.backward(torch.eye(2))\n",
        "print(a.grad)"
      ],
      "execution_count": 182,
      "outputs": [
        {
          "output_type": "stream",
          "text": [
            "tensor([[0.1135, 0.1661],\n",
            "        [0.1980, 1.1263]])\n"
          ],
          "name": "stdout"
        }
      ]
    },
    {
      "cell_type": "markdown",
      "metadata": {
        "id": "dGHlkVlvACKV"
      },
      "source": [
        "Подробнее про вычисление градиентов в PyTorch читайте [в официальном руководстве](https://pytorch.org/tutorials/beginner/basics/autogradqs_tutorial.html)"
      ]
    },
    {
      "cell_type": "markdown",
      "metadata": {
        "id": "FnVvj4LkD15r"
      },
      "source": [
        "# Пример 0: Оптимизация функции методом градиентного спуска\r\n",
        "\r\n",
        "Попробуем использовать автоматическое дифференциирования для оптимизации простой функции двух переменных $f(x_1,x_2)=(x_1-3)^2+(x_2+2)^2$. Пусть тензор `x` представляет собой текущие координато точки. Мы начнем с некоторой начальной точки $x^{(0)}=(0,0)$, и будет вычислять следующую точку по формуле:\r\n",
        "$$\r\n",
        "x^{(n+1)} = x^{(n)} - \\eta\\nabla f\r\n",
        "$$\r\n",
        "Здесь $\\eta$ - т.н. **learning rage** (назоём его `lr` в коде), а $\\nabla f = (\\frac{\\partial f}{\\partial x_1},\\frac{\\partial f}{\\partial x_2})$ - градиент функции $f$.\r\n",
        "\r\n",
        "Для начала определим стартовое значение `x` и функцию `f`:"
      ]
    },
    {
      "cell_type": "code",
      "metadata": {
        "id": "nDw5mV9KEeOa"
      },
      "source": [
        "x = torch.zeros(2,requires_grad=True)\r\n",
        "f = lambda x : (x-torch.tensor([3,-2])).pow(2).sum()\r\n",
        "lr = 0.1"
      ],
      "execution_count": 184,
      "outputs": []
    },
    {
      "cell_type": "markdown",
      "metadata": {
        "id": "Wt815LWdEj77"
      },
      "source": [
        "Теперь проделаем 15 итераций градиентного спуска. На каждой итерации, мы будем обновлять координаты `x` и печатать их, чтобы убедиться, что мы достигаем минимума (3,-2):"
      ]
    },
    {
      "cell_type": "code",
      "metadata": {
        "colab": {
          "base_uri": "https://localhost:8080/"
        },
        "id": "KfwMf555EyWJ",
        "outputId": "67e2199c-61ff-4ad1-9c48-b4a646bf8bbd"
      },
      "source": [
        "for i in range(15):\r\n",
        "    y = f(x)\r\n",
        "    y.backward()\r\n",
        "    gr = x.grad\r\n",
        "    x.data.add_(-lr*gr)\r\n",
        "    x.grad.zero_()\r\n",
        "    print(\"Step {}: x[0]={}, x[1]={}\".format(i,x[0],x[1]))"
      ],
      "execution_count": 186,
      "outputs": [
        {
          "output_type": "stream",
          "text": [
            "Step 0: x[0]=1.2000000476837158, x[1]=-0.800000011920929\n",
            "Step 1: x[0]=1.5600000619888306, x[1]=-1.0399999618530273\n",
            "Step 2: x[0]=1.8480000495910645, x[1]=-1.2319999933242798\n",
            "Step 3: x[0]=2.078400135040283, x[1]=-1.385599970817566\n",
            "Step 4: x[0]=2.2627201080322266, x[1]=-1.5084799528121948\n",
            "Step 5: x[0]=2.4101760387420654, x[1]=-1.6067839860916138\n",
            "Step 6: x[0]=2.5281407833099365, x[1]=-1.685427188873291\n",
            "Step 7: x[0]=2.6225125789642334, x[1]=-1.7483417987823486\n",
            "Step 8: x[0]=2.698009967803955, x[1]=-1.798673391342163\n",
            "Step 9: x[0]=2.7584080696105957, x[1]=-1.8389387130737305\n",
            "Step 10: x[0]=2.8067264556884766, x[1]=-1.8711509704589844\n",
            "Step 11: x[0]=2.845381259918213, x[1]=-1.8969208002090454\n",
            "Step 12: x[0]=2.876305103302002, x[1]=-1.9175366163253784\n",
            "Step 13: x[0]=2.9010441303253174, x[1]=-1.9340293407440186\n",
            "Step 14: x[0]=2.920835256576538, x[1]=-1.947223424911499\n"
          ],
          "name": "stdout"
        }
      ]
    },
    {
      "cell_type": "markdown",
      "metadata": {
        "id": "8sfjBMBu59B5"
      },
      "source": [
        "## Пример 1: Линейная регрессия\r\n",
        "\r\n",
        "Попробуем с помощью полученных знаний решить классическую задачу линейной регрессии. Для этого сгенерируем небольшой синтетический датасет:"
      ]
    },
    {
      "cell_type": "code",
      "metadata": {
        "trusted": true,
        "id": "j723455WwHl7"
      },
      "source": [
        "import numpy as np\n",
        "import matplotlib.pyplot as plt\n",
        "from sklearn.datasets import make_classification, make_regression\n",
        "from sklearn.model_selection import train_test_split\n",
        "import random"
      ],
      "execution_count": 187,
      "outputs": []
    },
    {
      "cell_type": "code",
      "metadata": {
        "colab": {
          "base_uri": "https://localhost:8080/",
          "height": 282
        },
        "id": "WJNK_J6v6I-Z",
        "outputId": "09e6386e-a6d4-4b81-c8d2-153f0acf9696"
      },
      "source": [
        "np.random.seed(13) # pick the seed for reproducability - change it to explore the effects of random variations\n",
        "\n",
        "train_x = np.linspace(0, 3, 120)\n",
        "train_labels = 2 * train_x + 0.9 + np.random.randn(*train_x.shape) * 0.5\n",
        "\n",
        "plt.scatter(train_x,train_labels)"
      ],
      "execution_count": 188,
      "outputs": [
        {
          "output_type": "execute_result",
          "data": {
            "text/plain": [
              "<matplotlib.collections.PathCollection at 0x7f0ffb8714d0>"
            ]
          },
          "metadata": {
            "tags": []
          },
          "execution_count": 188
        },
        {
          "output_type": "display_data",
          "data": {
            "image/png": "[encoded data removed]",
            "text/plain": [
              "<Figure size 432x288 with 1 Axes>"
            ]
          },
          "metadata": {
            "tags": [],
            "needs_background": "light"
          }
        }
      ]
    },
    {
      "cell_type": "markdown",
      "metadata": {
        "id": "Ng4rZmGc6oxk"
      },
      "source": [
        "Линейная регрессия вычисляется как $f_{W,b}(x) = Wx+b$, где $W, b$ - параметры модели, которые необходимо найти. Функция ошибки на наборе данных $\\{x_i,y_u\\}_{i=1}^N$ может быть определена как среднеевадратичное отклонение\r\n",
        "$$\r\n",
        "\\mathcal{L}(W,b) = {1\\over N}\\sum_{i=1}^N (f_{W,b}(x_i)-y_i)^2\r\n",
        "$$\r\n",
        "\r\n",
        "Опишем модель и функцию ошибки:"
      ]
    },
    {
      "cell_type": "code",
      "metadata": {
        "id": "QxhI4GlB6aiH"
      },
      "source": [
        "input_dim = 1\r\n",
        "output_dim = 1\r\n",
        "learning_rate = 0.1\r\n",
        "\r\n",
        "# This is our weight matrix\r\n",
        "w = torch.tensor([100.0],requires_grad=True,dtype=torch.float32)\r\n",
        "# This is our bias vector\r\n",
        "b = torch.zeros(size=(output_dim,),requires_grad=True)\r\n",
        "\r\n",
        "def f(x):\r\n",
        "  return torch.matmul(x,w) + b\r\n",
        "\r\n",
        "def compute_loss(labels, predictions):\r\n",
        "  return torch.mean(torch.square(labels - predictions))"
      ],
      "execution_count": 189,
      "outputs": []
    },
    {
      "cell_type": "markdown",
      "metadata": {
        "id": "JUxwj3367gD2"
      },
      "source": [
        "Обучать модель будем на сериях примеров - minibatches. Для обучения используем градиентный спуск, подстраивая парметры в соответствии с формулой:\r\n",
        "$$\r\n",
        "\\begin{array}{l}\r\n",
        "W^{(n+1)}=W^{(n)}-\\eta\\frac{\\partial\\mathcal{L}}{\\partial W} \\\\\r\n",
        "b^{(n+1)}=b^{(n)}-\\eta\\frac{\\partial\\mathcal{L}}{\\partial b} \\\\\r\n",
        "\\end{array}\r\n",
        "$$"
      ]
    },
    {
      "cell_type": "code",
      "metadata": {
        "id": "-991PErM7fJU"
      },
      "source": [
        "def train_on_batch(x, y):\r\n",
        "  predictions = f(x)\r\n",
        "  loss = compute_loss(y, predictions)\r\n",
        "  loss.backward()\r\n",
        "  w.data.sub_(learning_rate * w.grad)\r\n",
        "  b.data.sub_(learning_rate * b.grad)\r\n",
        "  w.grad.zero_()\r\n",
        "  b.grad.zero_()\r\n",
        "  return loss"
      ],
      "execution_count": 190,
      "outputs": []
    },
    {
      "cell_type": "markdown",
      "metadata": {
        "id": "idr2VEWb9rr0"
      },
      "source": [
        "Теперь приступаем к обучению: делаем несколько проходов по всему датасету (эпох), разбиваем его на minibatches, и вызываем функцию обучения:"
      ]
    },
    {
      "cell_type": "code",
      "metadata": {
        "id": "nOuu0qpx-wAp"
      },
      "source": [
        "# Shuffle the data.\r\n",
        "indices = np.random.permutation(len(train_x))\r\n",
        "features = torch.tensor(train_x[indices],dtype=torch.float32)\r\n",
        "labels = torch.tensor(train_labels[indices],dtype=torch.float32)"
      ],
      "execution_count": 191,
      "outputs": []
    },
    {
      "cell_type": "code",
      "metadata": {
        "colab": {
          "base_uri": "https://localhost:8080/"
        },
        "id": "3zdIf6c_85Ht",
        "outputId": "6520288c-da59-4a9f-c37e-cd99779c3073"
      },
      "source": [
        "batch_size = 4\r\n",
        "for epoch in range(10):\r\n",
        "  for i in range(0,len(features),batch_size):\r\n",
        "    loss = train_on_batch(features[i:i+batch_size].view(-1,1),labels[i:i+batch_size])\r\n",
        "  print('Epoch %d: last batch loss = %.4f' % (epoch, float(loss)))"
      ],
      "execution_count": 192,
      "outputs": [
        {
          "output_type": "stream",
          "text": [
            "Epoch 0: last batch loss = 94.5247\n",
            "Epoch 1: last batch loss = 9.3428\n",
            "Epoch 2: last batch loss = 1.4166\n",
            "Epoch 3: last batch loss = 0.5224\n",
            "Epoch 4: last batch loss = 0.3807\n",
            "Epoch 5: last batch loss = 0.3495\n",
            "Epoch 6: last batch loss = 0.3413\n",
            "Epoch 7: last batch loss = 0.3390\n",
            "Epoch 8: last batch loss = 0.3384\n",
            "Epoch 9: last batch loss = 0.3382\n"
          ],
          "name": "stdout"
        }
      ]
    },
    {
      "cell_type": "code",
      "metadata": {
        "colab": {
          "base_uri": "https://localhost:8080/"
        },
        "id": "US6q0nCBD-LL",
        "outputId": "c804b779-3231-4f6f-c854-032d211b2853"
      },
      "source": [
        "w,b"
      ],
      "execution_count": 193,
      "outputs": [
        {
          "output_type": "execute_result",
          "data": {
            "text/plain": [
              "(tensor([1.8617], requires_grad=True), tensor([1.0711], requires_grad=True))"
            ]
          },
          "metadata": {
            "tags": []
          },
          "execution_count": 193
        }
      ]
    },
    {
      "cell_type": "code",
      "metadata": {
        "colab": {
          "base_uri": "https://localhost:8080/",
          "height": 282
        },
        "id": "_e6xRMZFDnyI",
        "outputId": "79e6c360-265a-401d-ce39-8f211917a13d"
      },
      "source": [
        "plt.scatter(train_x,train_labels)\r\n",
        "x = np.array([min(train_x),max(train_x)])\r\n",
        "with torch.no_grad():\r\n",
        "  y = w.numpy()*x+b.numpy()\r\n",
        "plt.plot(x,y)"
      ],
      "execution_count": 194,
      "outputs": [
        {
          "output_type": "execute_result",
          "data": {
            "text/plain": [
              "[<matplotlib.lines.Line2D at 0x7f0ffb65ba10>]"
            ]
          },
          "metadata": {
            "tags": []
          },
          "execution_count": 194
        },
        {
          "output_type": "display_data",
          "data": {
            "image/png": "[encoded data removed]",
            "text/plain": [
              "<Figure size 432x288 with 1 Axes>"
            ]
          },
          "metadata": {
            "tags": [],
            "needs_background": "light"
          }
        }
      ]
    },
    {
      "cell_type": "markdown",
      "metadata": {
        "id": "0giuwC9GHzi8"
      },
      "source": [
        "## Вычислиения на GPU\r\n",
        "\r\n",
        "Для проведения вычислений на GPU PyTorch поддерживает перемещение тензоров на GPU и автоматическое построение вычислетельного графа там. Традиционный способ вычислений состоит в том, что вначале мы определяем доступное вычислительное устройство `device` (CPU или GPU), и затем перемещаем туда все необходимые тензоры по мере необходимости с помощью вызова `.to(device)`. Мы также можем заранее создавать тензоры на нужно устройстве, указывая параметр `device=...`. Такой код работает без изменений как на GPU, так и на CPU: "
      ]
    },
    {
      "cell_type": "code",
      "metadata": {
        "id": "HK7HPLz3Hyrl",
        "colab": {
          "base_uri": "https://localhost:8080/"
        },
        "outputId": "7e14cccb-d376-4e59-be66-4ab3f5c3f6f4"
      },
      "source": [
        "device = 'cuda' if torch.cuda.is_available() else 'cpu'\r\n",
        "\r\n",
        "print('Doing computations on '+device)\r\n",
        "\r\n",
        "### Changes here: indicate device\r\n",
        "w = torch.tensor([100.0],requires_grad=True,dtype=torch.float32,device=device)\r\n",
        "b = torch.zeros(size=(output_dim,),requires_grad=True,device=device)\r\n",
        "\r\n",
        "def f(x):\r\n",
        "  return torch.matmul(x,w) + b\r\n",
        "\r\n",
        "def compute_loss(labels, predictions):\r\n",
        "  return torch.mean(torch.square(labels - predictions))\r\n",
        "\r\n",
        "def train_on_batch(x, y):\r\n",
        "  predictions = f(x)\r\n",
        "  loss = compute_loss(y, predictions)\r\n",
        "  loss.backward()\r\n",
        "  w.data.sub_(learning_rate * w.grad)\r\n",
        "  b.data.sub_(learning_rate * b.grad)\r\n",
        "  w.grad.zero_()\r\n",
        "  b.grad.zero_()\r\n",
        "  return loss\r\n",
        "\r\n",
        "batch_size = 4\r\n",
        "for epoch in range(10):\r\n",
        "  for i in range(0,len(features),batch_size):\r\n",
        "    ### Changes here: move data to required device\r\n",
        "    loss = train_on_batch(features[i:i+batch_size].view(-1,1).to(device),labels[i:i+batch_size].to(device))\r\n",
        "  print('Epoch %d: last batch loss = %.4f' % (epoch, float(loss)))"
      ],
      "execution_count": 195,
      "outputs": [
        {
          "output_type": "stream",
          "text": [
            "Doing computations on cuda\n",
            "Epoch 0: last batch loss = 94.5247\n",
            "Epoch 1: last batch loss = 9.3428\n",
            "Epoch 2: last batch loss = 1.4166\n",
            "Epoch 3: last batch loss = 0.5224\n",
            "Epoch 4: last batch loss = 0.3807\n",
            "Epoch 5: last batch loss = 0.3495\n",
            "Epoch 6: last batch loss = 0.3413\n",
            "Epoch 7: last batch loss = 0.3390\n",
            "Epoch 8: last batch loss = 0.3384\n",
            "Epoch 9: last batch loss = 0.3382\n"
          ],
          "name": "stdout"
        }
      ]
    },
    {
      "cell_type": "markdown",
      "metadata": {
        "id": "A10prCPowHl7"
      },
      "source": [
        "## Пример 2: Задача классификации\n",
        "\n",
        "Рассмотрим пример двухмерной задачи классификации на 2 класса. Примером такой задачи может быть классификация опухоли на 2 типа - доброкачественная и злокачественная, в зависимости от её размера и возраста.\n",
        "\n",
        "Сгенерируем тестовые данные случайным образом:\n"
      ]
    },
    {
      "cell_type": "code",
      "metadata": {
        "scrolled": false,
        "trusted": true,
        "id": "j0OTPkGpwHl7"
      },
      "source": [
        "np.random.seed(0) # pick the seed for reproducability - change it to explore the effects of random variations\n",
        "\n",
        "n = 100\n",
        "X, Y = make_classification(n_samples = n, n_features=2,\n",
        "                           n_redundant=0, n_informative=2, flip_y=0.2,class_sep=1)\n",
        "X = X.astype(np.float32)\n",
        "Y = Y.astype(np.int32)\n",
        "\n",
        "split = [ 70*n//100, (15+70)*n//100 ]\n",
        "train_x, valid_x, test_x = np.split(X, split)\n",
        "train_labels, valid_labels, test_labels = np.split(Y, split)"
      ],
      "execution_count": 196,
      "outputs": []
    },
    {
      "cell_type": "code",
      "metadata": {
        "scrolled": false,
        "trusted": true,
        "id": "c-_BjSHPwHl8"
      },
      "source": [
        "def plot_dataset(features, labels, W=None, b=None):\n",
        "    # prepare the plot\n",
        "    fig, ax = plt.subplots(1, 1)\n",
        "    ax.set_xlabel('$x_i[0]$ -- (feature 1)')\n",
        "    ax.set_ylabel('$x_i[1]$ -- (feature 2)')\n",
        "    colors = ['r' if l else 'b' for l in labels]\n",
        "    ax.scatter(features[:, 0], features[:, 1], marker='o', c=colors, s=100, alpha = 0.5)\n",
        "    if W is not None:\n",
        "        min_x = min(features[:,0])\n",
        "        max_x = max(features[:,1])\n",
        "        min_y = min(features[:,1])*(1-.1)\n",
        "        max_y = max(features[:,1])*(1+.1)\n",
        "        cx = np.array([min_x,max_x],dtype=np.float32)\n",
        "        cy = (0.5-W[0]*cx-b)/W[1]\n",
        "        ax.plot(cx,cy,'g')\n",
        "        ax.set_ylim(min_y,max_y)\n",
        "    fig.show()"
      ],
      "execution_count": 197,
      "outputs": []
    },
    {
      "cell_type": "code",
      "metadata": {
        "scrolled": false,
        "trusted": true,
        "colab": {
          "base_uri": "https://localhost:8080/",
          "height": 283
        },
        "id": "tq0vFchQwHl8",
        "outputId": "919f1922-f789-4779-cbdc-4f9e742c358b"
      },
      "source": [
        "plot_dataset(train_x, train_labels)"
      ],
      "execution_count": 198,
      "outputs": [
        {
          "output_type": "display_data",
          "data": {
            "image/png": "[encoded data removed]",
            "text/plain": [
              "<Figure size 432x288 with 1 Axes>"
            ]
          },
          "metadata": {
            "tags": [],
            "needs_background": "light"
          }
        }
      ]
    },
    {
      "cell_type": "markdown",
      "metadata": {
        "id": "SjPlpf2-wHl8"
      },
      "source": [
        "## Обучение простейшего одноуровневого персептрона вручную\r\n",
        "\r\n",
        "Используем возможности tensorflow по вычислению градиента для обучения одноуровневого персептрона.\r\n",
        "\r\n",
        "Для начала, задаём архитектуру сети, в которой будет 2 входа и один выход. Соответственно, матрица весов $W$ будет иметь размерность $2\\times1$, а вектор сдвига $b$ -- $1$.\r\n",
        "\r\n",
        "Для удобства сгруппируем все параметры в отдельный класс:\r\n"
      ]
    },
    {
      "cell_type": "code",
      "metadata": {
        "id": "J1KaixW-cMWJ"
      },
      "source": [
        "class Network():\r\n",
        "  def __init__(self):\r\n",
        "     self.W = torch.randn(size=(2,1),requires_grad=True)\r\n",
        "     self.b = torch.zeros(size=(1,),requires_grad=True)\r\n",
        "\r\n",
        "  def forward(self,x):\r\n",
        "    return torch.matmul(x,self.W)+self.b\r\n",
        "\r\n",
        "  def zero_grad(self):\r\n",
        "    self.W.data.zero_()\r\n",
        "    self.b.data.zero_()\r\n",
        "\r\n",
        "  def update(self,lr=0.1):\r\n",
        "    self.W.data.sub_(lr*self.W.grad)\r\n",
        "    self.b.data.sub_(lr*self.b)\r\n",
        "\r\n",
        "net = Network()"
      ],
      "execution_count": 199,
      "outputs": []
    },
    {
      "cell_type": "markdown",
      "metadata": {
        "id": "rQ7W6TOacIAI"
      },
      "source": [
        "> Обратите внимание, что мы используем `W.data.zero_()` вместо `W.zero_()`. Это делается потому, что к тензору, состояние которого отслеживается через механизм *Autograd*, нельзя обращаться напрямую.\r\n",
        "\r\n",
        "Функция обучение будет такая же, как в прошлом примере, но функция ошибки будет представлять собой логистическую функцию ошибки. Для этого нам нужно получить на выходе сети значение **вероятности** класса 1, т.е. необходимо привести выход сети $z$ к диапазону [0,1] с помощью передаточной функции `sigmoid`: $p=\\sigma(z)$.\r\n",
        "Далее, если для примера с номером класса $y_i\\in\\{0,1\\}$ был получен выход сети $p_i$, то ошибка вычисляется как $\\mathcal{L_i}=-(y_i\\log p_i + (1-y_i)log(1-p_i))$. \r\n",
        "\r\n",
        "В PyTorch оба эти этапа (применение сигмоиды и взятие логистической функции ошибки) делается одним вызовом `binary_cross_entropy_with_logits`. Поскольку мы делаем обучение по минибатчам, то необходимо усреднить ошибку по всем компонентам минибатча - это функция `binary_cross_entropy_with_logits` делает сама, возвращая одно число. \r\n",
        "\r\n",
        "> Следует отметить, что вызов `binary_crossentropy_with_logits` эквивалентен последовательному применению `sigmoid` и `binary_crossentropy`"
      ]
    },
    {
      "cell_type": "code",
      "metadata": {
        "trusted": true,
        "id": "kdDxWeCqwHl8"
      },
      "source": [
        "def train_on_batch(net, x, y):\n",
        "  z = net.forward(x).flatten()\n",
        "  loss = torch.nn.functional.binary_cross_entropy_with_logits(input=z,target=y)\n",
        "  net.zero_grad()\n",
        "  loss.backward()\n",
        "  net.update()\n",
        "  return loss"
      ],
      "execution_count": 200,
      "outputs": []
    },
    {
      "cell_type": "markdown",
      "metadata": {
        "id": "zAAgw0h6KzUd"
      },
      "source": [
        "Для чтения данных воспользуемся встроенными функциями PyTorch по организации датасетов. Концепция датасетов основана на двух понятиях:\r\n",
        "* **Dataset** - собественно источник данных, может быть **Iterable** и **Map-style**\r\n",
        "* **Dataloader** отвечает за загрузку данных и разбиение на батчи.\r\n",
        "\r\n",
        "В нашем случае мы определяем датасет на основе тензора, и далее разбиваем входные данные на минибатчи по 16 элементов. Каждый минибатч включает в себя два тензора, входные данные (размером 16x2) и выходные (вектор длины 16 целого типа - номер класса)."
      ]
    },
    {
      "cell_type": "code",
      "metadata": {
        "trusted": true,
        "colab": {
          "base_uri": "https://localhost:8080/"
        },
        "id": "PfyqjVb2wHl8",
        "outputId": "b3a685a9-304c-4e7e-adf9-2858cc47c3a5"
      },
      "source": [
        "# Create a tf.data.Dataset object for easy batched iteration\n",
        "dataset = torch.utils.data.TensorDataset(torch.tensor(train_x),torch.tensor(train_labels,dtype=torch.float32))\n",
        "dataloader = torch.utils.data.DataLoader(dataset,batch_size=16)\n",
        "\n",
        "list(dataloader)[0]"
      ],
      "execution_count": 201,
      "outputs": [
        {
          "output_type": "execute_result",
          "data": {
            "text/plain": [
              "[tensor([[ 1.3383, -0.9861],\n",
              "         [ 0.5128,  0.4330],\n",
              "         [-0.4474, -0.2681],\n",
              "         [-0.9866, -0.2869],\n",
              "         [-1.0694,  0.4172],\n",
              "         [-0.8694, -0.8607],\n",
              "         [-0.9894,  0.3734],\n",
              "         [-0.9951,  1.2320],\n",
              "         [-1.3667, -1.0529],\n",
              "         [ 0.5239, -1.9724],\n",
              "         [-1.2474,  0.7092],\n",
              "         [ 1.8675, -0.2057],\n",
              "         [-1.1899,  0.4243],\n",
              "         [ 0.7644, -0.6796],\n",
              "         [-2.0532,  0.4223],\n",
              "         [-0.5973, -1.2011]]),\n",
              " tensor([1., 1., 0., 0., 0., 0., 1., 0., 0., 1., 0., 1., 0., 0., 0., 0.])]"
            ]
          },
          "metadata": {
            "tags": []
          },
          "execution_count": 201
        }
      ]
    },
    {
      "cell_type": "markdown",
      "metadata": {
        "id": "xrwgkbQjhkEp"
      },
      "source": [
        "Теперь мы можем пройтись по всему датасету и организовать процесс обучения:"
      ]
    },
    {
      "cell_type": "code",
      "metadata": {
        "colab": {
          "base_uri": "https://localhost:8080/"
        },
        "id": "QGchp9D6gVJa",
        "outputId": "b4c4751d-cb56-4104-d5b5-f1ae9d3d858d"
      },
      "source": [
        "for epoch in range(15):\r\n",
        "  for (x, y) in dataloader:\r\n",
        "    loss = train_on_batch(net,x,y)\r\n",
        "  print('Epoch %d: last batch loss = %.4f' % (epoch, float(loss)))"
      ],
      "execution_count": 202,
      "outputs": [
        {
          "output_type": "stream",
          "text": [
            "Epoch 0: last batch loss = 0.6447\n",
            "Epoch 1: last batch loss = 0.6046\n",
            "Epoch 2: last batch loss = 0.5817\n",
            "Epoch 3: last batch loss = 0.5680\n",
            "Epoch 4: last batch loss = 0.5596\n",
            "Epoch 5: last batch loss = 0.5542\n",
            "Epoch 6: last batch loss = 0.5507\n",
            "Epoch 7: last batch loss = 0.5485\n",
            "Epoch 8: last batch loss = 0.5470\n",
            "Epoch 9: last batch loss = 0.5459\n",
            "Epoch 10: last batch loss = 0.5453\n",
            "Epoch 11: last batch loss = 0.5448\n",
            "Epoch 12: last batch loss = 0.5445\n",
            "Epoch 13: last batch loss = 0.5443\n",
            "Epoch 14: last batch loss = 0.5442\n"
          ],
          "name": "stdout"
        }
      ]
    },
    {
      "cell_type": "code",
      "metadata": {
        "colab": {
          "base_uri": "https://localhost:8080/"
        },
        "id": "5QaDiCQUkFOT",
        "outputId": "45b4a66b-1222-40f4-c758-d58f1c7daf8c"
      },
      "source": [
        "print(net.W,net.b)"
      ],
      "execution_count": 203,
      "outputs": [
        {
          "output_type": "stream",
          "text": [
            "tensor([[1.0563],\n",
            "        [0.4450]], requires_grad=True) tensor([0.], requires_grad=True)\n"
          ],
          "name": "stdout"
        }
      ]
    },
    {
      "cell_type": "markdown",
      "metadata": {
        "id": "s4_Atvn5K4K9"
      },
      "source": [
        "Для демонстрации того, как сработало обучение, построим граничную прямую $W\\times x + b = 0.5$"
      ]
    },
    {
      "cell_type": "code",
      "metadata": {
        "trusted": true,
        "colab": {
          "base_uri": "https://localhost:8080/",
          "height": 283
        },
        "id": "PgRTHttLwHl9",
        "outputId": "d9abf92f-cb70-4c56-ccd0-5e027239da58"
      },
      "source": [
        "plot_dataset(train_x,train_labels,net.W.detach().numpy(),net.b.detach().numpy())"
      ],
      "execution_count": 204,
      "outputs": [
        {
          "output_type": "display_data",
          "data": {
            "image/png": "[encoded data removed]",
            "text/plain": [
              "<Figure size 432x288 with 1 Axes>"
            ]
          },
          "metadata": {
            "tags": [],
            "needs_background": "light"
          }
        }
      ]
    },
    {
      "cell_type": "markdown",
      "metadata": {
        "id": "1W4TZfXOmIlS"
      },
      "source": [
        "Посчитаем точность на тестовом датасете:"
      ]
    },
    {
      "cell_type": "code",
      "metadata": {
        "colab": {
          "base_uri": "https://localhost:8080/"
        },
        "id": "HUjdeIefsIsg",
        "outputId": "a1a363d4-a307-4769-9ccf-fe8a857b62af"
      },
      "source": [
        "pred = torch.sigmoid(net.forward(torch.tensor(valid_x)))\r\n",
        "torch.mean(((pred.view(-1)>0.5)==(torch.tensor(valid_labels)>0.5)).type(torch.float32))"
      ],
      "execution_count": 205,
      "outputs": [
        {
          "output_type": "execute_result",
          "data": {
            "text/plain": [
              "tensor(0.8667)"
            ]
          },
          "metadata": {
            "tags": []
          },
          "execution_count": 205
        }
      ]
    },
    {
      "cell_type": "markdown",
      "metadata": {
        "id": "_95qF9lY2kHp"
      },
      "source": [
        "## Нейросети и оптимизаторы\r\n",
        "\r\n",
        "В PyTorch реализованы специальные модули `torch.nn.Module` для реализации нейросетей в виде набора слоёв. При этом есть два способа описания нейросетей:\r\n",
        "* **Sequential**, в виде перечисления набора слоёв\r\n",
        "* В виде **класса**, унаследованного от `Module`\r\n",
        "\r\n",
        "Первый способ проще позволяет описывать стандартные сети, второй - более гибкий, позволяет описывать произвольные сложные конфигурации вычислений.\r\n",
        "\r\n",
        "Внутри модулей можно использовать стандартные слои, среди которых:\r\n",
        "* `Linear` - линейный слой, аналогичный нашей нейросети, приведенной выше\r\n",
        "* `Softmax`, `Sigmoid`, `ReLU` - слои для передаточных функций\r\n",
        "\r\n",
        "> Обратите внимание, что большинство передаточных функций и функций потерь в PyTorch доступны в двух вариантах: **функциональный** (внутри `torch.nn.functional`) и **в виде класса** (внутри `torch.nn`). Для передаточных функций удобно использовать функции из `torch.nn.functional`, не создавая отдельного слоя.\r\n",
        "\r\n",
        "Для однослойной сети мы можем просто взять экземпляр слоя `Linear`:"
      ]
    },
    {
      "cell_type": "code",
      "metadata": {
        "colab": {
          "base_uri": "https://localhost:8080/"
        },
        "id": "D77pXPR6oFRs",
        "outputId": "efa49e5c-72d4-4781-89d4-4ab6597d2b0e"
      },
      "source": [
        "net = torch.nn.Linear(2,1) # 2 inputs, 1 output\r\n",
        "\r\n",
        "print(list(net.parameters()))"
      ],
      "execution_count": 206,
      "outputs": [
        {
          "output_type": "stream",
          "text": [
            "[Parameter containing:\n",
            "tensor([[-0.1892, -0.5979]], requires_grad=True), Parameter containing:\n",
            "tensor([0.1538], requires_grad=True)]\n"
          ],
          "name": "stdout"
        }
      ]
    },
    {
      "cell_type": "markdown",
      "metadata": {
        "id": "0tbe0Et_oiNo"
      },
      "source": [
        "Мы видим, что у сети есть метод `parameters()`, возвращающий все параметры, которые необходимо подстраивать.\r\n",
        "\r\n",
        "Методы обучения, такие, как градиентный спуск, реализованы в виде отдельных объектов, которым передается список параметров:"
      ]
    },
    {
      "cell_type": "code",
      "metadata": {
        "id": "B4AxyrFMozh0"
      },
      "source": [
        "optim = torch.optim.SGD(net.parameters(),lr=0.05)"
      ],
      "execution_count": 207,
      "outputs": []
    },
    {
      "cell_type": "markdown",
      "metadata": {
        "id": "6eB8v58eo9pp"
      },
      "source": [
        "С использованием оптимизатора, наш процесс обучения будет выглядеть так:"
      ]
    },
    {
      "cell_type": "code",
      "metadata": {
        "colab": {
          "base_uri": "https://localhost:8080/"
        },
        "id": "ups7nlV22ofp",
        "outputId": "503d8ae9-35f3-4ecb-e2ff-4da2ec2914eb"
      },
      "source": [
        "val_x = torch.tensor(valid_x)\r\n",
        "val_lab = torch.tensor(valid_labels)\r\n",
        "\r\n",
        "for ep in range(10):\r\n",
        "  for (x,y) in dataloader:\r\n",
        "    z = net(x).flatten()\r\n",
        "    loss = torch.nn.functional.binary_cross_entropy_with_logits(z,y)\r\n",
        "    optim.zero_grad()\r\n",
        "    loss.backward()\r\n",
        "    optim.step()\r\n",
        "  acc = ((torch.sigmoid(net(val_x).flatten())>0.5).float()==val_lab).float().mean()\r\n",
        "  print(f\"Epoch {ep}: last batch loss = {loss}, val acc = {acc}\")"
      ],
      "execution_count": 208,
      "outputs": [
        {
          "output_type": "stream",
          "text": [
            "Epoch 0: last batch loss = 1.1270943880081177, val acc = 0.6666666865348816\n",
            "Epoch 1: last batch loss = 1.0163036584854126, val acc = 0.7333333492279053\n",
            "Epoch 2: last batch loss = 0.9239333271980286, val acc = 0.800000011920929\n",
            "Epoch 3: last batch loss = 0.8493780493736267, val acc = 0.9333333373069763\n",
            "Epoch 4: last batch loss = 0.7907424569129944, val acc = 0.8666666746139526\n",
            "Epoch 5: last batch loss = 0.7453570365905762, val acc = 0.8666666746139526\n",
            "Epoch 6: last batch loss = 0.7104158401489258, val acc = 0.8666666746139526\n",
            "Epoch 7: last batch loss = 0.6834256649017334, val acc = 0.8666666746139526\n",
            "Epoch 8: last batch loss = 0.6623864769935608, val acc = 0.8666666746139526\n",
            "Epoch 9: last batch loss = 0.645784318447113, val acc = 0.8666666746139526\n"
          ],
          "name": "stdout"
        }
      ]
    },
    {
      "cell_type": "markdown",
      "metadata": {
        "id": "vRLXEQ4Qrcvx"
      },
      "source": [
        "> Обратите внимание, что для вызова (применения) нейросети к входному аргументу мы используем синтаксис `net(x)`, вместо `net.forward(x)`, поскольку `nn.Module` реализует метод `__call__()`\r\n",
        "\r\n",
        "С учётом описанного, можем описать универсальную обучающую функцию:"
      ]
    },
    {
      "cell_type": "code",
      "metadata": {
        "colab": {
          "base_uri": "https://localhost:8080/"
        },
        "id": "5c6WsBhlrlIs",
        "outputId": "54de8404-4170-4a15-abba-039d06d5e946"
      },
      "source": [
        "def train(net, dataloader, val_x, val_lab, epochs=10, lr=0.05):\r\n",
        "  optim = torch.optim.Adam(net.parameters(),lr=lr)\r\n",
        "  for ep in range(epochs):\r\n",
        "    for (x,y) in dataloader:\r\n",
        "      z = net(x).flatten()\r\n",
        "      loss = torch.nn.functional.binary_cross_entropy_with_logits(z,y)\r\n",
        "      optim.zero_grad()\r\n",
        "      loss.backward()\r\n",
        "      optim.step()\r\n",
        "    acc = ((torch.sigmoid(net(val_x).flatten())>0.5).float()==val_lab).float().mean()\r\n",
        "    print(f\"Epoch {ep}: last batch loss = {loss}, val acc = {acc}\")\r\n",
        "\r\n",
        "net = torch.nn.Linear(2,1)\r\n",
        "\r\n",
        "train(net,dataloader,val_x,val_lab,lr=0.03)"
      ],
      "execution_count": 214,
      "outputs": [
        {
          "output_type": "stream",
          "text": [
            "Epoch 0: last batch loss = 0.6797666549682617, val acc = 0.06666667014360428\n",
            "Epoch 1: last batch loss = 0.6262387037277222, val acc = 0.06666667014360428\n",
            "Epoch 2: last batch loss = 0.5835054516792297, val acc = 0.20000000298023224\n",
            "Epoch 3: last batch loss = 0.5517064332962036, val acc = 0.2666666805744171\n",
            "Epoch 4: last batch loss = 0.5291333794593811, val acc = 0.2666666805744171\n",
            "Epoch 5: last batch loss = 0.5140607357025146, val acc = 0.3333333432674408\n",
            "Epoch 6: last batch loss = 0.5050028562545776, val acc = 0.4000000059604645\n",
            "Epoch 7: last batch loss = 0.5006228089332581, val acc = 0.6000000238418579\n",
            "Epoch 8: last batch loss = 0.4996645152568817, val acc = 0.6000000238418579\n",
            "Epoch 9: last batch loss = 0.5009827017784119, val acc = 0.7333333492279053\n"
          ],
          "name": "stdout"
        }
      ]
    },
    {
      "cell_type": "markdown",
      "metadata": {
        "id": "KzuIDqJ8sFYm"
      },
      "source": [
        "## Описание сети в виде набора слоёв\r\n",
        "\r\n",
        "Простейшую многослойную нейросеть можно описать в виде набора последовательно-применяемых слоёв. При этом такая сеть будет обладать всеми характеристиками вышеописанных - она автоматически соберёт в методе `parameters` параметры всех промежуточных слоёв"
      ]
    },
    {
      "cell_type": "code",
      "metadata": {
        "colab": {
          "base_uri": "https://localhost:8080/"
        },
        "id": "tBtytmEAsq-O",
        "outputId": "06ad840b-c2b7-409e-e01e-a9170548151d"
      },
      "source": [
        "net = torch.nn.Sequential(torch.nn.Linear(2,5),torch.nn.Sigmoid(),torch.nn.Linear(5,1))\r\n",
        "print(net)"
      ],
      "execution_count": 215,
      "outputs": [
        {
          "output_type": "stream",
          "text": [
            "Sequential(\n",
            "  (0): Linear(in_features=2, out_features=5, bias=True)\n",
            "  (1): Sigmoid()\n",
            "  (2): Linear(in_features=5, out_features=1, bias=True)\n",
            ")\n"
          ],
          "name": "stdout"
        }
      ]
    },
    {
      "cell_type": "markdown",
      "metadata": {
        "id": "5r5RbLB1s6YB"
      },
      "source": [
        "Обучать такую сеть мы можем с помощью описанного ранее метода `train`:"
      ]
    },
    {
      "cell_type": "code",
      "metadata": {
        "colab": {
          "base_uri": "https://localhost:8080/"
        },
        "id": "ogXKdcfIs_ND",
        "outputId": "957ccd8d-0076-4e9b-89f1-edc1de75f18e"
      },
      "source": [
        "train(net,dataloader,val_x,val_lab)"
      ],
      "execution_count": 216,
      "outputs": [
        {
          "output_type": "stream",
          "text": [
            "Epoch 0: last batch loss = 0.6622872352600098, val acc = 0.6666666865348816\n",
            "Epoch 1: last batch loss = 0.6727332472801208, val acc = 0.800000011920929\n",
            "Epoch 2: last batch loss = 0.6326467990875244, val acc = 0.800000011920929\n",
            "Epoch 3: last batch loss = 0.5876082181930542, val acc = 0.7333333492279053\n",
            "Epoch 4: last batch loss = 0.5610458254814148, val acc = 0.7333333492279053\n",
            "Epoch 5: last batch loss = 0.5546905398368835, val acc = 0.7333333492279053\n",
            "Epoch 6: last batch loss = 0.5626044273376465, val acc = 0.7333333492279053\n",
            "Epoch 7: last batch loss = 0.5754281878471375, val acc = 0.800000011920929\n",
            "Epoch 8: last batch loss = 0.5850474238395691, val acc = 0.800000011920929\n",
            "Epoch 9: last batch loss = 0.5874522924423218, val acc = 0.800000011920929\n"
          ],
          "name": "stdout"
        }
      ]
    },
    {
      "cell_type": "markdown",
      "metadata": {
        "id": "jY4R1XEGtEzJ"
      },
      "source": [
        "## Описание нейросети в виде класса\r\n",
        "\r\n",
        "Это более гибкий способ описания нейросетей, поскольку он позволяет выполнять произвольные вычисления."
      ]
    },
    {
      "cell_type": "code",
      "metadata": {
        "colab": {
          "base_uri": "https://localhost:8080/"
        },
        "id": "SlsJmGu0tMsZ",
        "outputId": "240d5c89-096c-4392-99cd-1ade5ff3e3e1"
      },
      "source": [
        "class MyNet(torch.nn.Module):\r\n",
        "  def __init__(self,hidden_size=10,func=torch.nn.Sigmoid()):\r\n",
        "    super().__init__()\r\n",
        "    self.fc1 = torch.nn.Linear(2,hidden_size)\r\n",
        "    self.func = func\r\n",
        "    self.fc2 = torch.nn.Linear(hidden_size,1)\r\n",
        "\r\n",
        "  def forward(self,x):\r\n",
        "    x = self.fc1(x)\r\n",
        "    x = self.func(x)\r\n",
        "    x = self.fc2(x)\r\n",
        "    return x\r\n",
        "  \r\n",
        "net = MyNet(func=torch.nn.ReLU())\r\n",
        "print(net)"
      ],
      "execution_count": 230,
      "outputs": [
        {
          "output_type": "stream",
          "text": [
            "MyNet(\n",
            "  (fc1): Linear(in_features=2, out_features=10, bias=True)\n",
            "  (func): ReLU()\n",
            "  (fc2): Linear(in_features=10, out_features=1, bias=True)\n",
            ")\n"
          ],
          "name": "stdout"
        }
      ]
    },
    {
      "cell_type": "code",
      "metadata": {
        "colab": {
          "base_uri": "https://localhost:8080/"
        },
        "id": "HwdapRxft-7M",
        "outputId": "6eb900cf-4902-4a04-c62b-497b68455406"
      },
      "source": [
        "train(net,dataloader,val_x,val_lab,lr=0.005)"
      ],
      "execution_count": 231,
      "outputs": [
        {
          "output_type": "stream",
          "text": [
            "Epoch 0: last batch loss = 0.6930208206176758, val acc = 0.8666666746139526\n",
            "Epoch 1: last batch loss = 0.6779811382293701, val acc = 0.9333333373069763\n",
            "Epoch 2: last batch loss = 0.6627538800239563, val acc = 0.9333333373069763\n",
            "Epoch 3: last batch loss = 0.6472628712654114, val acc = 0.9333333373069763\n",
            "Epoch 4: last batch loss = 0.6321150660514832, val acc = 0.9333333373069763\n",
            "Epoch 5: last batch loss = 0.618022620677948, val acc = 0.9333333373069763\n",
            "Epoch 6: last batch loss = 0.6052160859107971, val acc = 0.9333333373069763\n",
            "Epoch 7: last batch loss = 0.5925578474998474, val acc = 0.9333333373069763\n",
            "Epoch 8: last batch loss = 0.5803073048591614, val acc = 0.9333333373069763\n",
            "Epoch 9: last batch loss = 0.569009006023407, val acc = 0.9333333373069763\n"
          ],
          "name": "stdout"
        }
      ]
    },
    {
      "cell_type": "markdown",
      "metadata": {
        "id": "dvAiaj_JndyP"
      },
      "source": [
        "**Задание 1**: Постройте графики ошибок на обучающей и тестовой выборке в процессе обучения\r\n",
        "\r\n",
        "**Задание 2**: Попробуйте решить задачу классификации на датасете MNIST с помощью этого кода. Подсказка: используйте `crossentropy_with_logits` в качестве функции ошибки. При этом в первом случае на выход сети необходимо подавать целевые значения в формате *one hot encoding*, а во втором - в виде целочисленного номера класса."
      ]
    },
    {
      "cell_type": "markdown",
      "metadata": {
        "id": "gZ-kWx84bMDH"
      },
      "source": [
        "**Задание 3**: \r\n",
        "Используйте PyTorch для обучения классификатора на сети MNIST. При этом:\r\n",
        "* Обратите внимание, что в keras заложены типовые датасеты, включая MNIST. Для обращения к нему достаточно пары строчек кода с использованием библиотеки `torchvision` (см, например, [тут](https://pytorch.org/vision/0.8/datasets.html))\r\n",
        "* Попробуйте несколько конфигураций сети с несколькими полносвязными слоями, передаточными функциями, и разным количеством нейронов\r\n",
        "\r\n",
        "Какой точности вам удалось достичь?\r\n"
      ]
    },
    {
      "cell_type": "code",
      "metadata": {
        "trusted": true,
        "id": "MG64NKzawHl-"
      },
      "source": [
        ""
      ],
      "execution_count": null,
      "outputs": []
    }
  ]
}